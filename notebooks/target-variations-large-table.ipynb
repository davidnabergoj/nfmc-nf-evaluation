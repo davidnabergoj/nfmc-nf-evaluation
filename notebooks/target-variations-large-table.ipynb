{
 "cells": [
  {
   "cell_type": "code",
   "id": "dead4eb1117c6c",
   "metadata": {
    "ExecuteTime": {
     "end_time": "2024-12-22T14:42:00.337629Z",
     "start_time": "2024-12-22T14:41:59.594423Z"
    }
   },
   "source": [
    "import pandas as pd\n",
    "import json\n",
    "\n",
    "with open('../results.json', 'r') as f:\n",
    "    results_dict = json.load(f)\n",
    "\n",
    "decimal_precision = 2"
   ],
   "outputs": [],
   "execution_count": 1
  },
  {
   "cell_type": "code",
   "id": "818c62c298d7ca94",
   "metadata": {
    "ExecuteTime": {
     "end_time": "2024-12-22T14:42:00.374042Z",
     "start_time": "2024-12-22T14:42:00.341054Z"
    }
   },
   "source": [
    "common_columns = ['flow', 'sampler', 'second_moment_squared_bias']\n",
    "\n",
    "tmp1 = pd.DataFrame(results_dict['dimensionality_ablation'])[common_columns + ['dimensionality']]\n",
    "tmp2 = pd.DataFrame(results_dict['curvature_strength_ablation'])[common_columns + ['curvature_strength']]\n",
    "tmp3 = pd.DataFrame(results_dict['weight_ablation'])[common_columns + ['weight_scale']]\n",
    "tmp4 = pd.DataFrame(results_dict['n_components_ablation'])[common_columns + ['n_components']]\n",
    "\n",
    "tmps = []\n",
    "for i, t in enumerate([tmp1, tmp2, tmp3, tmp4]):\n",
    "    t['method'] = t['sampler'] + t[t.columns[-1]].map(str) + f'_{i}'\n",
    "    t = t.loc[~t['flow'].isin(['ot-flow', 'p-resflow', 'proximal-resflow'])]\n",
    "    t = t.drop([t.columns[-2]], axis=1)\n",
    "    tmps.append(t)\n",
    "tmps.append(pd.concat(tmps, axis=0))\n",
    "\n",
    "tmps = [t.loc[t['flow'] != 'None'] for t in tmps]\n",
    "tmps_jumps = [t[~t['sampler'].isin(['neutra_hmc', 'neutra_mh'])].drop('sampler', axis=1) for t in tmps]\n",
    "tmps_neutra = [t[t['sampler'].isin(['neutra_hmc', 'neutra_mh'])].drop('sampler', axis=1) for t in tmps]"
   ],
   "outputs": [],
   "execution_count": 2
  },
  {
   "cell_type": "code",
   "id": "61d21d23",
   "metadata": {
    "ExecuteTime": {
     "end_time": "2024-12-22T14:42:02.791533Z",
     "start_time": "2024-12-22T14:42:00.465587Z"
    }
   },
   "source": [
    "from notebooks.util import standardized_rank, make_bold_mask, to_booktabs_table, get_standard_flow_order, FLOW_PRETTY_MATH\n",
    "\n",
    "_fr = pd.concat([\n",
    "    standardized_rank(t, rank_what='flow', rank_across='method').apply(lambda el: round(el, decimal_precision), axis=1).apply(tuple, axis=1)\n",
    "    for t in tmps_jumps\n",
    "], axis=1)\n",
    "_fr.columns = ['Dimensionality', 'Curvature', 'Mode weight', 'Components', 'All']\n",
    "order = get_standard_flow_order([f for f, in _fr.index])\n",
    "_fr = _fr.iloc[order]\n",
    "_fr.index = [FLOW_PRETTY_MATH[s] for (s,) in _fr.index]\n",
    "bold_mask = make_bold_mask(_fr, top_quantile=0.8)\n",
    "_fr = _fr.reset_index()\n",
    "_fr.columns = ['NF'] + list(_fr.columns)[1:]\n",
    "\n",
    "to_booktabs_table(\n",
    "    _fr,\n",
    "    bold_mask=bold_mask,\n",
    "    caption=r'$\\overline{r} \\pm \\hat{\\sigma}$ for NFs in Jump MCMC given NF scalability scores when varying target properties: dimensionality, curvature strength, variance of mode weights, number of modes. NFs with $\\overline{r}$ in the 20th percentile are shown in bold. Ranks computed separately for each target property.',\n",
    "    save_to_file='tables/target-variations-jump-mcmc.tex',\n",
    "    label='tab:target-variations-jump-mcmc'\n",
    ")"
   ],
   "outputs": [
    {
     "name": "stdout",
     "output_type": "stream",
     "text": [
      "\\begin{table}\n",
      "\n",
      "            \\renewrobustcmd{\\bfseries}{\\fontseries{b}\\selectfont}\n",
      "            \\renewrobustcmd{\\boldmath}{}\n",
      "            \\sisetup{%\n",
      "                table-align-uncertainty=true,\n",
      "                detect-all,\n",
      "                separate-uncertainty=true,\n",
      "                mode=text,\n",
      "                round-mode=uncertainty,\n",
      "                round-precision=2,\n",
      "                table-format = 2.2(2),\n",
      "                table-column-width=2.1cm\n",
      "            }\n",
      "            \n",
      "\\begin{tabular}{l\n",
      "S\n",
      "S\n",
      "S\n",
      "S\n",
      "S}\n",
      "\\toprule\n",
      "{NF} & {Dimensionality} & {Curvature} & {Mode weight} & {Components} & {All} \\\\\n",
      "\\midrule\n",
      "{NICE} & \\bfseries -0.68(0.24) & \\bfseries -0.48(0.27) & -0.26(0.19) & \\bfseries -0.34(0.23) & \\bfseries -0.43(0.11) \\\\\n",
      "{Real NVP} & -0.13(0.24) & \\bfseries -0.41(0.28) & -0.06(0.17) & -0.18(0.23) & -0.18(0.11) \\\\\n",
      "{C-LR-NSF} & -0.27(0.17) & \\bfseries -1.01(0.14) & \\bfseries -0.45(0.27) & \\bfseries -0.34(0.19) & \\bfseries -0.49(0.11) \\\\\n",
      "{C-RQ-NSF} & \\bfseries -0.68(0.21) & -0.39(0.17) & -0.31(0.18) & \\bfseries -0.49(0.21) & \\bfseries -0.46(0.10) \\\\\n",
      "{C-NAF$_\\mathrm{deep}$} & 0.55(0.23) & 0.29(0.31) & 0.50(0.21) & 0.43(0.26) & 0.45(0.12) \\\\\n",
      "{C-NAF$_\\mathrm{dense}$} & 0.64(0.25) & 0.68(0.25) & 0.43(0.16) & 0.40(0.19) & 0.52(0.10) \\\\\n",
      "{C-NAF$_\\mathrm{both}$} & 0.70(0.26) & 0.80(0.32) & 1.24(0.13) & 0.74(0.28) & 0.90(0.12) \\\\\n",
      "{i-ResNet} & -0.21(0.19) & 0.10(0.15) & -0.06(0.18) & 0.20(0.27) & -0.00(0.10) \\\\\n",
      "{ResFlow} & \\bfseries -0.37(0.21) & 0.19(0.23) & -0.18(0.18) & 0.07(0.25) & -0.09(0.11) \\\\\n",
      "{CNF$_\\mathrm{Euler}$} & 0.30(0.28) & 0.36(0.27) & \\bfseries -0.39(0.32) & -0.09(0.27) & 0.01(0.15) \\\\\n",
      "{CNF$_\\mathrm{RK}$} & 0.33(0.29) & -0.00(0.26) & -0.03(0.23) & -0.03(0.25) & 0.07(0.13) \\\\\n",
      "{CNF$_\\mathrm{RK(R)}$} & 0.02(0.29) & -0.12(0.38) & \\bfseries -0.43(0.27) & \\bfseries -0.38(0.32) & -0.24(0.15) \\\\\n",
      "\\bottomrule\n",
      "\\end{tabular}\n",
      "\\caption{$\\overline{r} \\pm \\hat{\\sigma}$ for NFs in Jump MCMC given NF scalability scores when varying target properties: dimensionality, curvature strength, variance of mode weights, number of modes. NFs with $\\overline{r}$ in the 20th percentile are shown in bold. Ranks computed separately for each target property.}\n",
      "\\label{tab:target-variations-jump-mcmc}\n",
      "\\end{table}\n"
     ]
    }
   ],
   "execution_count": 3
  },
  {
   "cell_type": "code",
   "id": "c7d20496d74b8eb8",
   "metadata": {
    "ExecuteTime": {
     "end_time": "2024-12-22T14:42:03.279427Z",
     "start_time": "2024-12-22T14:42:02.864223Z"
    }
   },
   "source": [
    "from util import make_bold_mask, to_booktabs_table\n",
    "from util import get_standard_flow_order, FLOW_PRETTY_MATH\n",
    "\n",
    "decimal_precision = 2\n",
    "\n",
    "_fr = pd.concat([\n",
    "    standardized_rank(t, rank_what='flow', rank_across='method').apply(lambda el: round(el, decimal_precision), axis=1).apply(tuple, axis=1)\n",
    "    for t in tmps_neutra\n",
    "], axis=1)\n",
    "_fr.columns = ['Dimensionality', 'Curvature', 'Mode weight', 'Components', 'All']\n",
    "order = get_standard_flow_order([f for f, in _fr.index])\n",
    "_fr = _fr.iloc[order]\n",
    "_fr.index = [FLOW_PRETTY_MATH[s] for (s,) in _fr.index]\n",
    "bold_mask = make_bold_mask(_fr, top_quantile=0.8)\n",
    "_fr = _fr.reset_index()\n",
    "_fr.columns = ['NF'] + list(_fr.columns)[1:]\n",
    "\n",
    "to_booktabs_table(\n",
    "    _fr,\n",
    "    bold_mask=bold_mask,\n",
    "    caption=r'$\\overline{r} \\pm \\hat{\\sigma}$ for NFs in NeuTra MCMC given NF scalability scores when varying target properties: dimensionality, curvature strength, variance of mode weights, number of modes. NFs with $\\overline{r}$ in the 20th percentile are shown in bold. Ranks computed separately for each target property.',\n",
    "    save_to_file='tables/target-variations-neutra.tex',\n",
    "    label='tab:target-variations-neutra'\n",
    ")"
   ],
   "outputs": [
    {
     "name": "stdout",
     "output_type": "stream",
     "text": [
      "\\begin{table}\n",
      "\n",
      "            \\renewrobustcmd{\\bfseries}{\\fontseries{b}\\selectfont}\n",
      "            \\renewrobustcmd{\\boldmath}{}\n",
      "            \\sisetup{%\n",
      "                table-align-uncertainty=true,\n",
      "                detect-all,\n",
      "                separate-uncertainty=true,\n",
      "                mode=text,\n",
      "                round-mode=uncertainty,\n",
      "                round-precision=2,\n",
      "                table-format = 2.2(2),\n",
      "                table-column-width=2.1cm\n",
      "            }\n",
      "            \n",
      "\\begin{tabular}{l\n",
      "S\n",
      "S\n",
      "S\n",
      "S\n",
      "S}\n",
      "\\toprule\n",
      "{NF} & {Dimensionality} & {Curvature} & {Mode weight} & {Components} & {All} \\\\\n",
      "\\midrule\n",
      "{NICE} & 0.01(0.14) & -0.38(0.33) & \\bfseries -0.93(0.15) & -0.42(0.31) & -0.46(0.13) \\\\\n",
      "{Real NVP} & 0.05(0.22) & \\bfseries -0.85(0.26) & -0.62(0.21) & 0.10(0.22) & -0.32(0.13) \\\\\n",
      "{C-LR-NSF} & \\bfseries -0.60(0.14) & -0.44(0.38) & \\bfseries -1.16(0.10) & -0.47(0.30) & \\bfseries -0.70(0.12) \\\\\n",
      "{C-RQ-NSF} & 0.29(0.17) & \\bfseries -0.74(0.53) & \\bfseries -1.27(0.11) & -0.39(0.30) & \\bfseries -0.53(0.15) \\\\\n",
      "{C-NAF$_\\mathrm{deep}$} & 0.38(0.43) & 0.87(0.25) & 1.12(0.07) & 0.50(0.35) & 0.73(0.15) \\\\\n",
      "{C-NAF$_\\mathrm{dense}$} & 0.33(0.51) & 0.60(0.27) & 0.59(0.08) & 0.19(0.31) & 0.43(0.14) \\\\\n",
      "{C-NAF$_\\mathrm{both}$} & 0.47(0.50) & 0.47(0.33) & 0.51(0.07) & 0.24(0.26) & 0.42(0.13) \\\\\n",
      "{IAF} & 0.50(0.25) & 0.03(0.30) & \\bfseries -1.11(0.10) & -0.44(0.31) & -0.31(0.15) \\\\\n",
      "{IA-LR-NSF} & -0.06(0.19) & 0.10(0.14) & -0.65(0.13) & \\bfseries -0.88(0.24) & -0.41(0.11) \\\\\n",
      "{IA-RQ-NSF} & -0.06(0.28) & 0.00(0.24) & \\bfseries -0.93(0.11) & \\bfseries -0.67(0.32) & \\bfseries -0.51(0.14) \\\\\n",
      "{IA-NAF$_\\mathrm{deep}$} & -0.16(0.20) & -0.05(0.44) & -0.83(0.18) & \\bfseries -0.84(0.20) & \\bfseries -0.51(0.13) \\\\\n",
      "{IA-NAF$_\\mathrm{dense}$} & \\bfseries -0.53(0.34) & -0.08(0.26) & 0.34(0.22) & 0.48(0.18) & 0.09(0.14) \\\\\n",
      "{IA-NAF$_\\mathrm{both}$} & \\bfseries -0.51(0.40) & -0.05(0.25) & 0.80(0.20) & 0.53(0.20) & 0.27(0.15) \\\\\n",
      "{i-ResNet} & -0.30(0.40) & \\bfseries -0.83(0.41) & -0.33(0.12) & \\bfseries -0.59(0.22) & -0.47(0.16) \\\\\n",
      "{ResFlow} & -0.38(0.23) & \\bfseries -1.32(0.28) & -0.33(0.15) & -0.03(0.26) & -0.44(0.14) \\\\\n",
      "{Planar} & 0.43(0.19) & -0.64(0.19) & -0.02(0.14) & -0.19(0.22) & -0.07(0.10) \\\\\n",
      "{Radial} & -0.11(0.51) & 0.89(0.46) & 1.65 & 1.65 & 1.12(0.18) \\\\\n",
      "{Sylvester} & -0.40(0.15) & -0.31(0.44) & -0.16(0.08) & -0.32(0.23) & -0.29(0.11) \\\\\n",
      "{CNF$_\\mathrm{Euler}$} & 0.28(0.45) & 0.65(0.33) & 1.19(0.09) & 0.27(0.39) & 0.62(0.17) \\\\\n",
      "{CNF$_\\mathrm{RK}$} & 0.98(0.30) & 0.70(0.28) & 0.90(0.24) & 0.72(0.35) & 0.83(0.14) \\\\\n",
      "{CNF$_\\mathrm{RK(R)}$} & \\bfseries -0.82(0.35) & -0.07(0.30) & 0.92(0.05) & 0.24(0.21) & 0.12(0.15) \\\\\n",
      "\\bottomrule\n",
      "\\end{tabular}\n",
      "\\caption{$\\overline{r} \\pm \\hat{\\sigma}$ for NFs in NeuTra MCMC given NF scalability scores when varying target properties: dimensionality, curvature strength, variance of mode weights, number of modes. NFs with $\\overline{r}$ in the 20th percentile are shown in bold. Ranks computed separately for each target property.}\n",
      "\\label{tab:target-variations-neutra}\n",
      "\\end{table}\n"
     ]
    }
   ],
   "execution_count": 4
  },
  {
   "cell_type": "code",
   "id": "d8156e02",
   "metadata": {
    "ExecuteTime": {
     "end_time": "2024-12-22T14:42:03.310416Z",
     "start_time": "2024-12-22T14:42:03.307760Z"
    }
   },
   "source": [],
   "outputs": [],
   "execution_count": null
  }
 ],
 "metadata": {
  "kernelspec": {
   "display_name": "torchflows-dev",
   "language": "python",
   "name": "python3"
  },
  "language_info": {
   "codemirror_mode": {
    "name": "ipython",
    "version": 3
   },
   "file_extension": ".py",
   "mimetype": "text/x-python",
   "name": "python",
   "nbconvert_exporter": "python",
   "pygments_lexer": "ipython3",
   "version": "3.12.7"
  }
 },
 "nbformat": 4,
 "nbformat_minor": 5
}
