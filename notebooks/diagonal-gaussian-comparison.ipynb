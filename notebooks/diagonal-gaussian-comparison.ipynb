{
 "cells": [
  {
   "cell_type": "code",
   "metadata": {
    "ExecuteTime": {
     "end_time": "2024-12-22T14:25:32.823748Z",
     "start_time": "2024-12-22T14:25:32.818688Z"
    }
   },
   "source": [
    "# How does diagonal gaussian performance correlate with HBM performance? Any connection?"
   ],
   "outputs": [],
   "execution_count": 1
  },
  {
   "cell_type": "code",
   "metadata": {
    "ExecuteTime": {
     "end_time": "2024-12-22T14:25:33.523806Z",
     "start_time": "2024-12-22T14:25:32.828756Z"
    }
   },
   "source": [
    "import pandas as pd\n",
    "import json\n",
    "\n",
    "with open('../results.json', 'r') as f:\n",
    "    results_dict = json.load(f)"
   ],
   "outputs": [],
   "execution_count": 2
  },
  {
   "cell_type": "code",
   "metadata": {
    "ExecuteTime": {
     "end_time": "2024-12-22T14:25:33.621197Z",
     "start_time": "2024-12-22T14:25:33.592304Z"
    }
   },
   "source": [
    "df = pd.DataFrame(results_dict['general_experiment'])\n",
    "df = df[df['flow'] != 'None']"
   ],
   "outputs": [],
   "execution_count": 3
  },
  {
   "cell_type": "code",
   "metadata": {
    "ExecuteTime": {
     "end_time": "2024-12-22T14:25:33.656731Z",
     "start_time": "2024-12-22T14:25:33.636762Z"
    }
   },
   "source": [
    "# Performance on diagonal Gaussian. Look at squared bias.\n",
    "# Performance on HBM. Look at standardized rank. We already checked this.\n",
    "\n",
    "df[(df['benchmark'] == 'diagonal_gaussian') & (~df['sampler'].str.contains('neutra'))].groupby('flow')['second_moment_squared_bias'].median().sort_values()"
   ],
   "outputs": [
    {
     "data": {
      "text/plain": [
       "flow\n",
       "c-naf-deep           0.007309\n",
       "realnvp              0.008034\n",
       "nice                 0.010650\n",
       "c-lrsnsf             0.011623\n",
       "c-rqnsf              0.021675\n",
       "resflow              0.095891\n",
       "rnode                0.107159\n",
       "i-resnet             0.125641\n",
       "c-naf-deep-dense     0.449351\n",
       "c-naf-dense          1.425691\n",
       "ddb                  1.914304\n",
       "ffjord              11.802257\n",
       "Name: second_moment_squared_bias, dtype: float64"
      ]
     },
     "execution_count": 4,
     "metadata": {},
     "output_type": "execute_result"
    }
   ],
   "execution_count": 4
  },
  {
   "metadata": {
    "ExecuteTime": {
     "end_time": "2024-12-22T14:25:33.705480Z",
     "start_time": "2024-12-22T14:25:33.703076Z"
    }
   },
   "cell_type": "code",
   "source": "",
   "outputs": [],
   "execution_count": null
  }
 ],
 "metadata": {
  "kernelspec": {
   "display_name": "torchflows-dev",
   "language": "python",
   "name": "python3"
  },
  "language_info": {
   "codemirror_mode": {
    "name": "ipython",
    "version": 3
   },
   "file_extension": ".py",
   "mimetype": "text/x-python",
   "name": "python",
   "nbconvert_exporter": "python",
   "pygments_lexer": "ipython3",
   "version": "3.12.7"
  }
 },
 "nbformat": 4,
 "nbformat_minor": 2
}
