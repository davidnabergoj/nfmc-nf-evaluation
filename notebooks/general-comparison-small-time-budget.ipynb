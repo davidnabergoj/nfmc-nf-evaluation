{
 "cells": [
  {
   "cell_type": "code",
   "metadata": {
    "ExecuteTime": {
     "end_time": "2024-12-22T14:36:02.512844Z",
     "start_time": "2024-12-22T14:35:59.425687Z"
    }
   },
   "source": [
    "from notebooks.util import make_best_flow_kwargs_col\n",
    "import json\n",
    "import pandas as pd\n",
    "\n",
    "with open(\"../results.json\", 'r') as f:\n",
    "    data = json.load(f)\n",
    "\n",
    "df = pd.DataFrame(data['small_time_budget'])\n",
    "df = df[~df['flow'].isin(['ot-flow', 'proximal-resflow', 'p-resflow'])]\n",
    "df['flow_kwargs'] = df['flow_kwargs'].map(str)\n",
    "df['best_kwargs'] = make_best_flow_kwargs_col(df)"
   ],
   "outputs": [],
   "execution_count": 1
  },
  {
   "cell_type": "code",
   "metadata": {
    "ExecuteTime": {
     "end_time": "2024-12-22T14:36:02.600170Z",
     "start_time": "2024-12-22T14:36:02.523243Z"
    }
   },
   "source": [
    "from util import standardized_rank\n",
    "\n",
    "_sr_sampler = standardized_rank(\n",
    "    df[df['best_kwargs']],\n",
    "    rank_what=['sampler'],\n",
    "    rank_across=['benchmark'],\n",
    "    metric='second_moment_squared_bias'\n",
    ")\n",
    "_sr_sampler = _sr_sampler.reset_index()\n",
    "\n",
    "from util import get_standard_flow_order, get_standard_sampler_order\n",
    "\n",
    "order = get_standard_sampler_order(_sr_sampler['sampler'])[::-1]\n",
    "_sr_sampler = _sr_sampler.iloc[order].reset_index().drop('index', axis=1)\n",
    "_sr_sampler"
   ],
   "outputs": [
    {
     "data": {
      "text/plain": [
       "      sampler  mean_rank  sem_rank\n",
       "0  neutra_hmc   0.305556  0.210582\n",
       "1    jump_hmc  -0.666667  0.180775\n",
       "2         hmc  -1.083333  0.207104\n",
       "3   neutra_mh   0.555556  0.189119\n",
       "4     jump_mh  -0.222222  0.177225\n",
       "5         imh   0.555556  0.161128\n",
       "6          mh   0.555556  0.201663"
      ],
      "text/html": [
       "<div>\n",
       "<style scoped>\n",
       "    .dataframe tbody tr th:only-of-type {\n",
       "        vertical-align: middle;\n",
       "    }\n",
       "\n",
       "    .dataframe tbody tr th {\n",
       "        vertical-align: top;\n",
       "    }\n",
       "\n",
       "    .dataframe thead th {\n",
       "        text-align: right;\n",
       "    }\n",
       "</style>\n",
       "<table border=\"1\" class=\"dataframe\">\n",
       "  <thead>\n",
       "    <tr style=\"text-align: right;\">\n",
       "      <th></th>\n",
       "      <th>sampler</th>\n",
       "      <th>mean_rank</th>\n",
       "      <th>sem_rank</th>\n",
       "    </tr>\n",
       "  </thead>\n",
       "  <tbody>\n",
       "    <tr>\n",
       "      <th>0</th>\n",
       "      <td>neutra_hmc</td>\n",
       "      <td>0.305556</td>\n",
       "      <td>0.210582</td>\n",
       "    </tr>\n",
       "    <tr>\n",
       "      <th>1</th>\n",
       "      <td>jump_hmc</td>\n",
       "      <td>-0.666667</td>\n",
       "      <td>0.180775</td>\n",
       "    </tr>\n",
       "    <tr>\n",
       "      <th>2</th>\n",
       "      <td>hmc</td>\n",
       "      <td>-1.083333</td>\n",
       "      <td>0.207104</td>\n",
       "    </tr>\n",
       "    <tr>\n",
       "      <th>3</th>\n",
       "      <td>neutra_mh</td>\n",
       "      <td>0.555556</td>\n",
       "      <td>0.189119</td>\n",
       "    </tr>\n",
       "    <tr>\n",
       "      <th>4</th>\n",
       "      <td>jump_mh</td>\n",
       "      <td>-0.222222</td>\n",
       "      <td>0.177225</td>\n",
       "    </tr>\n",
       "    <tr>\n",
       "      <th>5</th>\n",
       "      <td>imh</td>\n",
       "      <td>0.555556</td>\n",
       "      <td>0.161128</td>\n",
       "    </tr>\n",
       "    <tr>\n",
       "      <th>6</th>\n",
       "      <td>mh</td>\n",
       "      <td>0.555556</td>\n",
       "      <td>0.201663</td>\n",
       "    </tr>\n",
       "  </tbody>\n",
       "</table>\n",
       "</div>"
      ]
     },
     "execution_count": 2,
     "metadata": {},
     "output_type": "execute_result"
    }
   ],
   "execution_count": 2
  },
  {
   "cell_type": "code",
   "metadata": {
    "ExecuteTime": {
     "end_time": "2024-12-22T14:36:02.777633Z",
     "start_time": "2024-12-22T14:36:02.699853Z"
    }
   },
   "source": [
    "_sr_sampler_best = standardized_rank(\n",
    "    df,\n",
    "    rank_what=['sampler'],\n",
    "    rank_across=['benchmark'],\n",
    "    metric='second_moment_squared_bias',\n",
    "    summary='min'\n",
    ")\n",
    "_sr_sampler_best = _sr_sampler_best.reset_index()\n",
    "\n",
    "order = get_standard_sampler_order(_sr_sampler_best['sampler'])[::-1]\n",
    "_sr_sampler_best = _sr_sampler_best.iloc[order].reset_index().drop('index', axis=1)\n",
    "_sr_sampler_best"
   ],
   "outputs": [
    {
     "data": {
      "text/plain": [
       "      sampler  mean_rank  sem_rank\n",
       "0  neutra_hmc  -0.083333  0.194911\n",
       "1    jump_hmc  -0.944444  0.205675\n",
       "2         hmc  -0.527778  0.215692\n",
       "3   neutra_mh   0.583333  0.181902\n",
       "4     jump_mh  -0.055556  0.175682\n",
       "5         imh  -0.027778  0.223139\n",
       "6          mh   1.055556  0.127115"
      ],
      "text/html": [
       "<div>\n",
       "<style scoped>\n",
       "    .dataframe tbody tr th:only-of-type {\n",
       "        vertical-align: middle;\n",
       "    }\n",
       "\n",
       "    .dataframe tbody tr th {\n",
       "        vertical-align: top;\n",
       "    }\n",
       "\n",
       "    .dataframe thead th {\n",
       "        text-align: right;\n",
       "    }\n",
       "</style>\n",
       "<table border=\"1\" class=\"dataframe\">\n",
       "  <thead>\n",
       "    <tr style=\"text-align: right;\">\n",
       "      <th></th>\n",
       "      <th>sampler</th>\n",
       "      <th>mean_rank</th>\n",
       "      <th>sem_rank</th>\n",
       "    </tr>\n",
       "  </thead>\n",
       "  <tbody>\n",
       "    <tr>\n",
       "      <th>0</th>\n",
       "      <td>neutra_hmc</td>\n",
       "      <td>-0.083333</td>\n",
       "      <td>0.194911</td>\n",
       "    </tr>\n",
       "    <tr>\n",
       "      <th>1</th>\n",
       "      <td>jump_hmc</td>\n",
       "      <td>-0.944444</td>\n",
       "      <td>0.205675</td>\n",
       "    </tr>\n",
       "    <tr>\n",
       "      <th>2</th>\n",
       "      <td>hmc</td>\n",
       "      <td>-0.527778</td>\n",
       "      <td>0.215692</td>\n",
       "    </tr>\n",
       "    <tr>\n",
       "      <th>3</th>\n",
       "      <td>neutra_mh</td>\n",
       "      <td>0.583333</td>\n",
       "      <td>0.181902</td>\n",
       "    </tr>\n",
       "    <tr>\n",
       "      <th>4</th>\n",
       "      <td>jump_mh</td>\n",
       "      <td>-0.055556</td>\n",
       "      <td>0.175682</td>\n",
       "    </tr>\n",
       "    <tr>\n",
       "      <th>5</th>\n",
       "      <td>imh</td>\n",
       "      <td>-0.027778</td>\n",
       "      <td>0.223139</td>\n",
       "    </tr>\n",
       "    <tr>\n",
       "      <th>6</th>\n",
       "      <td>mh</td>\n",
       "      <td>1.055556</td>\n",
       "      <td>0.127115</td>\n",
       "    </tr>\n",
       "  </tbody>\n",
       "</table>\n",
       "</div>"
      ]
     },
     "execution_count": 3,
     "metadata": {},
     "output_type": "execute_result"
    }
   ],
   "execution_count": 3
  },
  {
   "cell_type": "code",
   "metadata": {
    "ExecuteTime": {
     "end_time": "2024-12-22T14:36:04.591313Z",
     "start_time": "2024-12-22T14:36:02.810745Z"
    }
   },
   "source": [
    "import matplotlib.pyplot as plt\n",
    "from util import SAMPLER_PRETTY\n",
    "\n",
    "fig, axes = plt.subplots(1, 2, figsize=(9, 1.5), sharey=True)\n",
    "\n",
    "for index, row in _sr_sampler.iterrows():\n",
    "    axes[0].errorbar(x=row['mean_rank'], y=index, xerr=row['sem_rank'], capsize=3, c='tab:blue', marker='o')\n",
    "\n",
    "for index, row in _sr_sampler_best.iterrows():\n",
    "    axes[1].errorbar(x=row['mean_rank'], y=index, xerr=row['sem_rank'], capsize=3, c='tab:blue', marker='*',\n",
    "                     markersize=2 ** 3)\n",
    "\n",
    "axes[0].set_yticks(_sr_sampler.index, [SAMPLER_PRETTY[s] for s in _sr_sampler['sampler']])\n",
    "axes[0].set_xlabel('Average SR (default hyperparameters)')\n",
    "axes[1].set_xlabel('Average SR (minimum $b^2$)')\n",
    "\n",
    "# axes[1].set_yticks([])\n",
    "\n",
    "axes[0].set_ylim(-1, len(_sr_sampler.index))\n",
    "\n",
    "fig.subplots_adjust(wspace=0.07)\n",
    "\n",
    "fig.savefig('images/stb-nfmc-all-benchmarks-stb.png', bbox_inches='tight', dpi=600)\n",
    "fig.savefig('images/stb-nfmc-all-benchmarks-stb.pdf', bbox_inches='tight')\n",
    "\n",
    "plt.show()"
   ],
   "outputs": [
    {
     "data": {
      "text/plain": [
       "<Figure size 900x150 with 2 Axes>"
      ],
      "image/png": "[encoded data removed]"
     },
     "metadata": {},
     "output_type": "display_data"
    }
   ],
   "execution_count": 4
  },
  {
   "cell_type": "code",
   "metadata": {
    "ExecuteTime": {
     "end_time": "2024-12-22T14:36:04.634961Z",
     "start_time": "2024-12-22T14:36:04.629480Z"
    }
   },
   "source": [
    "from util import get_benchmark_family\n",
    "\n",
    "df['benchmark_family'] = [get_benchmark_family(b) for b in df['benchmark']]"
   ],
   "outputs": [],
   "execution_count": 5
  },
  {
   "cell_type": "code",
   "metadata": {
    "ExecuteTime": {
     "end_time": "2024-12-22T14:36:04.833543Z",
     "start_time": "2024-12-22T14:36:04.692657Z"
    }
   },
   "source": [
    "# table with NF kwargs that give you the minimum b2\n",
    "import numpy as np\n",
    "\n",
    "decimal_precision = 2\n",
    "\n",
    "masks = [\n",
    "            (df['benchmark_family'] == f) for f in\n",
    "            ['gaussian', 'non-gaussian (curved)', 'multimodal', 'non-gaussian (hierarchical)']\n",
    "        ] + [\n",
    "            pd.Series(np.ones(df.shape[0], dtype=bool)).values\n",
    "        ]\n",
    "\n",
    "tmp = pd.concat([\n",
    "    standardized_rank(\n",
    "        df[m],\n",
    "        rank_what='sampler',\n",
    "        rank_across='benchmark',\n",
    "        summary='min'\n",
    "    ).apply(lambda el: round(el, decimal_precision)).apply(tuple, axis=1)\n",
    "    for m in masks\n",
    "], axis=1)\n",
    "tmp.columns = ['Gaussian', 'Non-Gaussian', 'Multimodal', 'Hierarchical', 'All']\n",
    "\n",
    "order = get_standard_sampler_order([e[0] for e in tmp.index])\n",
    "tmp = tmp.iloc[order]\n",
    "tmp.index = [SAMPLER_PRETTY[s] for (s,) in tmp.index]\n",
    "\n",
    "tmp = tmp.reset_index()\n",
    "tmp.columns = ['Sampler'] + list(tmp.columns)[1:]"
   ],
   "outputs": [],
   "execution_count": 6
  },
  {
   "cell_type": "code",
   "metadata": {
    "ExecuteTime": {
     "end_time": "2024-12-22T14:36:04.849618Z",
     "start_time": "2024-12-22T14:36:04.841570Z"
    }
   },
   "source": [
    "from util import to_booktabs_table, make_bold_mask\n",
    "\n",
    "to_booktabs_table(\n",
    "    tmp,\n",
    "    bold_mask=make_bold_mask(tmp.set_index('Sampler'), top_quantile=1.0),\n",
    "    save_to_file='tables/nfmc-per-family-stb.tex',\n",
    "    caption=r'$\\overline{r} \\pm \\hat{\\sigma}$ for all samplers and target families given 2 minutes of warm-up time and 5 minutes of sampling time. Samplers with the best $\\overline{r}$ are shown in bold for each target family. We estimate $\\overline{r} \\pm \\hat{\\sigma}$ with the minimum $b^2$ across all NFs for each target within a family. Entries without $\\hat{\\sigma}$ always attain the same $\\overline{r}$. Ranks computed separately for each target family.',\n",
    "    label='tab:nfmc-per-family-stb'\n",
    ")"
   ],
   "outputs": [
    {
     "name": "stdout",
     "output_type": "stream",
     "text": [
      "\\begin{table}\n",
      "\n",
      "            \\renewrobustcmd{\\bfseries}{\\fontseries{b}\\selectfont}\n",
      "            \\renewrobustcmd{\\boldmath}{}\n",
      "            \\sisetup{%\n",
      "                table-align-uncertainty=true,\n",
      "                detect-all,\n",
      "                separate-uncertainty=true,\n",
      "                mode=text,\n",
      "                round-mode=uncertainty,\n",
      "                round-precision=2,\n",
      "                table-format = 2.2(2),\n",
      "                table-column-width=2.1cm\n",
      "            }\n",
      "            \n",
      "\\begin{tabular}{l\n",
      "S\n",
      "S\n",
      "S\n",
      "S\n",
      "S}\n",
      "\\toprule\n",
      "{Sampler} & {Gaussian} & {Non-Gaussian} & {Multimodal} & {Hierarchical} & {All} \\\\\n",
      "\\midrule\n",
      "{MH} & 1.00(0.20) & 0.75(0.75) & 0.75(0.32) & 1.31(0.13) & 1.06(0.13) \\\\\n",
      "{IMH} & 0.62(0.52) & 0.50(1.00) & 0.12(0.24) & -0.56(0.29) & -0.03(0.22) \\\\\n",
      "{Jump MH} & -0.25(0.32) & -0.50(0.50) & -0.38(0.12) & 0.31(0.31) & -0.06(0.18) \\\\\n",
      "{NeuTra MH} & 0.88(0.31) & 1.0 & 0.75(0.60) & 0.25(0.23) & 0.58(0.18) \\\\\n",
      "{HMC} & -1.12(0.12) & 0.00(0.50) & -0.38(0.62) & -0.44(0.35) & -0.53(0.22) \\\\\n",
      "{Jump HMC} & \\bfseries -1.25(0.25) & \\bfseries -1.5 & \\bfseries -0.88(0.62) & \\bfseries -0.69(0.33) & \\bfseries -0.94(0.21) \\\\\n",
      "{NeuTra HMC} & 0.12(0.24) & -0.25(0.75) & 0.00(0.54) & -0.19(0.33) & -0.08(0.19) \\\\\n",
      "\\bottomrule\n",
      "\\end{tabular}\n",
      "\\caption{$\\overline{r} \\pm \\hat{\\sigma}$ for all samplers and target families given 2 minutes of warm-up time and 5 minutes of sampling time. Samplers with the best $\\overline{r}$ are shown in bold for each target family. We estimate $\\overline{r} \\pm \\hat{\\sigma}$ with the minimum $b^2$ across all NFs for each target within a family. Entries without $\\hat{\\sigma}$ always attain the same $\\overline{r}$. Ranks computed separately for each target family.}\n",
      "\\label{tab:nfmc-per-family-stb}\n",
      "\\end{table}\n"
     ]
    }
   ],
   "execution_count": 7
  },
  {
   "cell_type": "code",
   "metadata": {
    "ExecuteTime": {
     "end_time": "2024-12-22T14:36:04.884361Z",
     "start_time": "2024-12-22T14:36:04.872525Z"
    }
   },
   "source": [
    "# Same df but for flows\n",
    "\n",
    "# table with default NF kwargs\n",
    "import numpy as np\n",
    "from util import to_booktabs_table, FLOW_PRETTY_MATH, make_bold_mask\n",
    "\n",
    "masks = [\n",
    "            (df['benchmark_family'] == f).values for f in\n",
    "            ['gaussian', 'non-gaussian (curved)', 'multimodal', 'non-gaussian (hierarchical)']\n",
    "        ] + [\n",
    "            pd.Series(np.ones(df.shape[0], dtype=bool)).values\n",
    "        ]\n",
    "\n",
    "masks = [m & (df['flow'] != 'None') for m in masks]"
   ],
   "outputs": [],
   "execution_count": 8
  },
  {
   "cell_type": "code",
   "metadata": {
    "ExecuteTime": {
     "end_time": "2024-12-22T14:36:05.090837Z",
     "start_time": "2024-12-22T14:36:04.903922Z"
    }
   },
   "source": [
    "jump_mcmc_mask = (~df['sampler'].isin(['neutra_mh', 'neutra_hmc']))\n",
    "\n",
    "tmp_jump = pd.concat([\n",
    "    standardized_rank(\n",
    "        df[m.values & jump_mcmc_mask & df['best_kwargs']],\n",
    "        rank_what='flow',\n",
    "        rank_across='benchmark'\n",
    "    ).apply(lambda el: round(el, decimal_precision)).apply(tuple, axis=1)\n",
    "    for m in masks\n",
    "], axis=1)\n",
    "tmp_jump.columns = ['Gaussian', 'Non-Gaussian', 'Multimodal', 'Hierarchical', 'All']\n",
    "\n",
    "order = get_standard_flow_order([f for f, in tmp_jump.index])\n",
    "tmp_jump = tmp_jump.iloc[order]\n",
    "tmp_jump.index = [FLOW_PRETTY_MATH[s] for (s,) in tmp_jump.index]\n",
    "\n",
    "bold_mask = make_bold_mask(tmp_jump, top_quantile=0.8)\n",
    "tmp_jump = tmp_jump.reset_index()\n",
    "tmp_jump.columns = ['NF'] + list(tmp_jump.columns)[1:]\n",
    "\n",
    "to_booktabs_table(\n",
    "    tmp_jump,\n",
    "    bold_mask=bold_mask,\n",
    "    caption=r'$\\overline{r} \\pm \\hat{\\sigma}$ for all NFs and target families in IMH, Jump MH, and Jump HMC given 2 minutes of warm-up time and 5 minutes of sampling time. NFs in the top 20th percentile are shown in bold for each target family. We estimate $\\overline{r} \\pm \\hat{\\sigma}$ with $b^2$ from runs with default hyperparameters. Entries without $\\hat{\\sigma}$ always attain the same $\\overline{r}$. Ranks computed separately for each target family.',\n",
    "    label='tab:nf-per-family-stb',\n",
    "    save_to_file='tables/nf-per-family-stb.tex',\n",
    ")"
   ],
   "outputs": [
    {
     "name": "stdout",
     "output_type": "stream",
     "text": [
      "\\begin{table}\n",
      "\n",
      "            \\renewrobustcmd{\\bfseries}{\\fontseries{b}\\selectfont}\n",
      "            \\renewrobustcmd{\\boldmath}{}\n",
      "            \\sisetup{%\n",
      "                table-align-uncertainty=true,\n",
      "                detect-all,\n",
      "                separate-uncertainty=true,\n",
      "                mode=text,\n",
      "                round-mode=uncertainty,\n",
      "                round-precision=2,\n",
      "                table-format = 2.2(2),\n",
      "                table-column-width=2.1cm\n",
      "            }\n",
      "            \n",
      "\\begin{tabular}{l\n",
      "S\n",
      "S\n",
      "S\n",
      "S\n",
      "S}\n",
      "\\toprule\n",
      "{NF} & {Gaussian} & {Non-Gaussian} & {Multimodal} & {Hierarchical} & {All} \\\\\n",
      "\\midrule\n",
      "{NICE} & \\bfseries -0.87(0.34) & 0.14(0.87) & -0.22(0.45) & 0.29(0.35) & -0.10(0.23) \\\\\n",
      "{Real NVP} & -0.22(0.14) & -0.29(0.72) & -0.22(0.38) & -0.33(0.37) & -0.27(0.19) \\\\\n",
      "{C-LR-NSF} & -0.58(0.28) & 0.00(0.14) & \\bfseries -0.58(0.60) & \\bfseries -0.58(0.20) & \\bfseries -0.51(0.16) \\\\\n",
      "{C-RQ-NSF} & \\bfseries -1.16(0.34) & 1.30(0.29) & -0.29(0.34) & 0.36(0.42) & -0.02(0.27) \\\\\n",
      "{C-NAF$_\\mathrm{deep}$} & 0.29(0.34) & 0.00(1.30) & -0.07(0.62) & 0.80(0.26) & 0.40(0.23) \\\\\n",
      "{C-NAF$_\\mathrm{dense}$} & 1.3 & 0.72(0.58) & 0.87(0.43) & 0.87(0.20) & 0.95(0.14) \\\\\n",
      "{C-NAF$_\\mathrm{both}$} & 1.59 & 0.43(1.16) & 1.59 & 0.80(0.36) & 1.11(0.21) \\\\\n",
      "{i-ResNet} & -0.43(0.20) & 0.00(0.43) & 0.07(0.36) & -0.47(0.27) & -0.29(0.16) \\\\\n",
      "{ResFlow} & 0.29(0.36) & 0.29(0.43) & 0.14(0.35) & \\bfseries -0.58(0.23) & -0.13(0.17) \\\\\n",
      "{CNF$_\\mathrm{Euler}$} & 0.80(0.14) & \\bfseries -1.45(0.14) & \\bfseries -0.51(0.49) & -0.47(0.32) & \\bfseries -0.31(0.23) \\\\\n",
      "{CNF$_\\mathrm{RK}$} & 0.07(0.46) & \\bfseries -0.43(1.16) & 0.00(0.51) & 0.04(0.37) & -0.02(0.23) \\\\\n",
      "{CNF$_\\mathrm{RK(R)}$} & \\bfseries -1.09(0.42) & \\bfseries -0.72(0.29) & \\bfseries -0.80(0.52) & \\bfseries -0.72(0.28) & \\bfseries -0.82(0.18) \\\\\n",
      "\\bottomrule\n",
      "\\end{tabular}\n",
      "\\caption{$\\overline{r} \\pm \\hat{\\sigma}$ for all NFs and target families in IMH, Jump MH, and Jump HMC given 2 minutes of warm-up time and 5 minutes of sampling time. NFs in the top 20th percentile are shown in bold for each target family. We estimate $\\overline{r} \\pm \\hat{\\sigma}$ with $b^2$ from runs with default hyperparameters. Entries without $\\hat{\\sigma}$ always attain the same $\\overline{r}$. Ranks computed separately for each target family.}\n",
      "\\label{tab:nf-per-family-stb}\n",
      "\\end{table}\n"
     ]
    }
   ],
   "execution_count": 9
  },
  {
   "cell_type": "code",
   "metadata": {
    "ExecuteTime": {
     "end_time": "2024-12-22T14:36:05.376924Z",
     "start_time": "2024-12-22T14:36:05.143712Z"
    }
   },
   "source": [
    "jump_mcmc_mask = (~df['sampler'].isin(['neutra_mh', 'neutra_hmc']))\n",
    "\n",
    "tmp_neutra = pd.concat([\n",
    "    standardized_rank(\n",
    "        df[m & (~jump_mcmc_mask) & df['best_kwargs']],\n",
    "        rank_what='flow',\n",
    "        rank_across='benchmark'\n",
    "    ).apply(lambda el: round(el, decimal_precision)).apply(tuple, axis=1)\n",
    "    for m in masks\n",
    "], axis=1)\n",
    "tmp_neutra.columns = ['Gaussian', 'Non-Gaussian', 'Multimodal', 'Hierarchical', 'All']\n",
    "\n",
    "order = get_standard_flow_order([f for f, in tmp_neutra.index])\n",
    "tmp_neutra = tmp_neutra.iloc[order]\n",
    "tmp_neutra.index = [FLOW_PRETTY_MATH[s] for (s,) in tmp_neutra.index]\n",
    "\n",
    "bold_mask = make_bold_mask(tmp_neutra, top_quantile=0.8)\n",
    "tmp_neutra = tmp_neutra.reset_index()\n",
    "tmp_neutra.columns = ['NF'] + list(tmp_neutra.columns)[1:]\n",
    "\n",
    "to_booktabs_table(\n",
    "    tmp_neutra,\n",
    "    bold_mask=bold_mask,\n",
    "    caption=r'$\\overline{r} \\pm \\hat{\\sigma}$ for all NFs and target families in NeuTra MH and NeuTra HMC given 2 minutes of warm-up time and 5 minutes of sampling time. NFs in the top 20th percentile are shown in bold for each target family. We estimate $\\overline{r} \\pm \\hat{\\sigma}$ with $b^2$ from runs with default hyperparameters. Entries without $\\hat{\\sigma}$ always attain the same $\\overline{r}$. Ranks computed separately for each target family.',\n",
    "    label='tab:nf-per-family-neutra-stb',\n",
    "    save_to_file='tables/nf-per-family-neutra-stb.tex'\n",
    ")"
   ],
   "outputs": [
    {
     "name": "stdout",
     "output_type": "stream",
     "text": [
      "\\begin{table}\n",
      "\n",
      "            \\renewrobustcmd{\\bfseries}{\\fontseries{b}\\selectfont}\n",
      "            \\renewrobustcmd{\\boldmath}{}\n",
      "            \\sisetup{%\n",
      "                table-align-uncertainty=true,\n",
      "                detect-all,\n",
      "                separate-uncertainty=true,\n",
      "                mode=text,\n",
      "                round-mode=uncertainty,\n",
      "                round-precision=2,\n",
      "                table-format = 2.2(2),\n",
      "                table-column-width=2.1cm\n",
      "            }\n",
      "            \n",
      "\\begin{tabular}{l\n",
      "S\n",
      "S\n",
      "S\n",
      "S\n",
      "S}\n",
      "\\toprule\n",
      "{NF} & {Gaussian} & {Non-Gaussian} & {Multimodal} & {Hierarchical} & {All} \\\\\n",
      "\\midrule\n",
      "{NICE} & \\bfseries -0.70(0.41) & 0.74(0.08) & \\bfseries -0.58(0.46) & -0.23(0.31) & -0.30(0.21) \\\\\n",
      "{Real NVP} & -0.50(0.40) & 0.74(0.41) & 0.41(0.27) & -0.15(0.33) & -0.00(0.20) \\\\\n",
      "{C-LR-NSF} & \\bfseries -1.03(0.24) & 0.50(0.17) & -0.08(0.47) & -0.20(0.38) & -0.28(0.22) \\\\\n",
      "{C-RQ-NSF} & \\bfseries -0.58(0.27) & \\bfseries -0.91(0.74) & \\bfseries -0.54(0.53) & 0.36(0.31) & -0.22(0.22) \\\\\n",
      "{C-NAF$_\\mathrm{deep}$} & 0.58(0.26) & 0.00(0.17) & 0.74(0.46) & 0.51(0.32) & 0.52(0.18) \\\\\n",
      "{C-NAF$_\\mathrm{dense}$} & -0.37(0.61) & \\bfseries -1.32(0.17) & -0.08(0.60) & \\bfseries -0.56(0.36) & \\bfseries -0.50(0.24) \\\\\n",
      "{C-NAF$_\\mathrm{both}$} & -0.41(0.64) & \\bfseries -1.32(0.17) & -0.45(0.57) & -0.28(0.38) & \\bfseries -0.47(0.25) \\\\\n",
      "{IAF} & -0.50(0.36) & 1.16(0.17) & -0.29(0.37) & 0.51(0.32) & 0.18(0.22) \\\\\n",
      "{IA-LR-NSF} & -0.50(0.39) & 0.25(0.25) & -0.12(0.37) & -0.19(0.21) & -0.19(0.15) \\\\\n",
      "{IA-RQ-NSF} & \\bfseries -0.83(0.26) & -0.08(0.25) & -0.21(0.54) & -0.44(0.28) & \\bfseries -0.43(0.18) \\\\\n",
      "{IA-NAF$_\\mathrm{deep}$} & -0.41(0.49) & -0.5 & -0.41(0.14) & \\bfseries -0.59(0.35) & \\bfseries -0.50(0.18) \\\\\n",
      "{IA-NAF$_\\mathrm{dense}$} & 0.12(0.55) & 0.00(0.99) & 0.74(0.43) & 0.75(0.22) & 0.53(0.20) \\\\\n",
      "{IA-NAF$_\\mathrm{both}$} & 1.16(0.07) & -0.17(0.66) & 1.45(0.04) & 0.74(0.37) & 0.90(0.20) \\\\\n",
      "{i-ResNet} & -0.12(0.30) & -0.50(0.17) & -0.12(0.54) & \\bfseries -0.52(0.29) & -0.34(0.18) \\\\\n",
      "{ResFlow} & -0.50(0.43) & \\bfseries -0.74(0.08) & 0.08(0.37) & -0.39(0.34) & -0.35(0.19) \\\\\n",
      "{Planar} & 0.04(0.26) & 0.41(0.41) & 0.12(0.35) & \\bfseries -0.54(0.28) & -0.16(0.17) \\\\\n",
      "{Radial} & 1.65 & 1.65 & 0.83(0.83) & -0.03(0.46) & 0.72(0.31) \\\\\n",
      "{Sylvester} & -0.41(0.21) & 0.08(1.40) & \\bfseries -0.58(0.14) & -0.22(0.22) & -0.34(0.19) \\\\\n",
      "{CNF$_\\mathrm{Euler}$} & 1.49 & 0.25(1.24) & \\bfseries -0.62(0.71) & 0.90(0.35) & 0.62(0.29) \\\\\n",
      "{CNF$_\\mathrm{RK}$} & 1.28(0.04) & 0.00(1.32) & -0.45(0.66) & 0.60(0.43) & 0.45(0.29) \\\\\n",
      "{CNF$_\\mathrm{RK(R)}$} & 0.54(0.41) & -0.25(1.40) & 0.17(0.54) & -0.08(0.36) & 0.09(0.24) \\\\\n",
      "\\bottomrule\n",
      "\\end{tabular}\n",
      "\\caption{$\\overline{r} \\pm \\hat{\\sigma}$ for all NFs and target families in NeuTra MH and NeuTra HMC given 2 minutes of warm-up time and 5 minutes of sampling time. NFs in the top 20th percentile are shown in bold for each target family. We estimate $\\overline{r} \\pm \\hat{\\sigma}$ with $b^2$ from runs with default hyperparameters. Entries without $\\hat{\\sigma}$ always attain the same $\\overline{r}$. Ranks computed separately for each target family.}\n",
      "\\label{tab:nf-per-family-neutra-stb}\n",
      "\\end{table}\n"
     ]
    }
   ],
   "execution_count": 10
  }
 ],
 "metadata": {
  "kernelspec": {
   "display_name": "torchflows-dev",
   "language": "python",
   "name": "python3"
  },
  "language_info": {
   "codemirror_mode": {
    "name": "ipython",
    "version": 3
   },
   "file_extension": ".py",
   "mimetype": "text/x-python",
   "name": "python",
   "nbconvert_exporter": "python",
   "pygments_lexer": "ipython3",
   "version": "3.12.7"
  }
 },
 "nbformat": 4,
 "nbformat_minor": 2
}
