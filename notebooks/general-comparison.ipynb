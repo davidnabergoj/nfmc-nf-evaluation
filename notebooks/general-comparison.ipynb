{
 "cells": [
  {
   "cell_type": "code",
   "metadata": {
    "ExecuteTime": {
     "end_time": "2024-12-22T14:29:28.681586Z",
     "start_time": "2024-12-22T14:29:25.369179Z"
    }
   },
   "source": [
    "import json\n",
    "from notebooks.util import make_best_flow_kwargs_col\n",
    "import pandas as pd\n",
    "\n",
    "decimal_precision = 2\n",
    "\n",
    "with open(\"../results.json\", 'r') as f:\n",
    "    data = json.load(f)\n",
    "\n",
    "df = pd.DataFrame(data['general_experiment'])\n",
    "df['flow_kwargs'] = df['flow_kwargs'].map(str)\n",
    "df['best_kwargs'] = make_best_flow_kwargs_col(df)"
   ],
   "outputs": [],
   "execution_count": 1
  },
  {
   "cell_type": "code",
   "metadata": {
    "ExecuteTime": {
     "end_time": "2024-12-22T14:29:28.765165Z",
     "start_time": "2024-12-22T14:29:28.693580Z"
    }
   },
   "source": [
    "from util import standardized_rank\n",
    "from util import get_standard_flow_order, get_standard_sampler_order\n",
    "\n",
    "_sr_sampler = standardized_rank(\n",
    "    df[df['best_kwargs']],\n",
    "    rank_what=['sampler'],\n",
    "    rank_across=['benchmark'],\n",
    "    metric='second_moment_squared_bias'\n",
    ").reset_index()\n",
    "\n",
    "order = get_standard_sampler_order(_sr_sampler['sampler'])[::-1]\n",
    "_sr_sampler = _sr_sampler.iloc[order].reset_index().drop('index', axis=1)\n",
    "_sr_sampler"
   ],
   "outputs": [
    {
     "data": {
      "text/plain": [
       "      sampler  mean_rank  sem_rank\n",
       "0  neutra_hmc  -0.055556  0.209609\n",
       "1    jump_hmc  -0.805556  0.206665\n",
       "2         hmc  -0.833333  0.166667\n",
       "3   neutra_mh   0.472222  0.178374\n",
       "4     jump_mh  -0.361111  0.170570\n",
       "5         imh   0.333333  0.134067\n",
       "6          mh   1.250000  0.141479"
      ],
      "text/html": [
       "<div>\n",
       "<style scoped>\n",
       "    .dataframe tbody tr th:only-of-type {\n",
       "        vertical-align: middle;\n",
       "    }\n",
       "\n",
       "    .dataframe tbody tr th {\n",
       "        vertical-align: top;\n",
       "    }\n",
       "\n",
       "    .dataframe thead th {\n",
       "        text-align: right;\n",
       "    }\n",
       "</style>\n",
       "<table border=\"1\" class=\"dataframe\">\n",
       "  <thead>\n",
       "    <tr style=\"text-align: right;\">\n",
       "      <th></th>\n",
       "      <th>sampler</th>\n",
       "      <th>mean_rank</th>\n",
       "      <th>sem_rank</th>\n",
       "    </tr>\n",
       "  </thead>\n",
       "  <tbody>\n",
       "    <tr>\n",
       "      <th>0</th>\n",
       "      <td>neutra_hmc</td>\n",
       "      <td>-0.055556</td>\n",
       "      <td>0.209609</td>\n",
       "    </tr>\n",
       "    <tr>\n",
       "      <th>1</th>\n",
       "      <td>jump_hmc</td>\n",
       "      <td>-0.805556</td>\n",
       "      <td>0.206665</td>\n",
       "    </tr>\n",
       "    <tr>\n",
       "      <th>2</th>\n",
       "      <td>hmc</td>\n",
       "      <td>-0.833333</td>\n",
       "      <td>0.166667</td>\n",
       "    </tr>\n",
       "    <tr>\n",
       "      <th>3</th>\n",
       "      <td>neutra_mh</td>\n",
       "      <td>0.472222</td>\n",
       "      <td>0.178374</td>\n",
       "    </tr>\n",
       "    <tr>\n",
       "      <th>4</th>\n",
       "      <td>jump_mh</td>\n",
       "      <td>-0.361111</td>\n",
       "      <td>0.170570</td>\n",
       "    </tr>\n",
       "    <tr>\n",
       "      <th>5</th>\n",
       "      <td>imh</td>\n",
       "      <td>0.333333</td>\n",
       "      <td>0.134067</td>\n",
       "    </tr>\n",
       "    <tr>\n",
       "      <th>6</th>\n",
       "      <td>mh</td>\n",
       "      <td>1.250000</td>\n",
       "      <td>0.141479</td>\n",
       "    </tr>\n",
       "  </tbody>\n",
       "</table>\n",
       "</div>"
      ]
     },
     "execution_count": 2,
     "metadata": {},
     "output_type": "execute_result"
    }
   ],
   "execution_count": 2
  },
  {
   "cell_type": "code",
   "metadata": {
    "ExecuteTime": {
     "end_time": "2024-12-22T14:29:28.949644Z",
     "start_time": "2024-12-22T14:29:28.863023Z"
    }
   },
   "source": [
    "_sr_sampler_best = standardized_rank(\n",
    "    df,\n",
    "    rank_what=['sampler'],\n",
    "    rank_across=['benchmark'],\n",
    "    metric='second_moment_squared_bias',\n",
    "    summary='min'\n",
    ").reset_index()\n",
    "\n",
    "order = get_standard_sampler_order(_sr_sampler_best['sampler'])[::-1]\n",
    "_sr_sampler_best = _sr_sampler_best.iloc[order].reset_index().drop('index', axis=1)\n",
    "_sr_sampler_best"
   ],
   "outputs": [
    {
     "data": {
      "text/plain": [
       "      sampler  mean_rank  sem_rank\n",
       "0  neutra_hmc  -0.166667  0.134067\n",
       "1    jump_hmc  -1.194444  0.181402\n",
       "2         hmc  -0.138889  0.165711\n",
       "3   neutra_mh   0.500000  0.166667\n",
       "4     jump_mh  -0.277778  0.210905\n",
       "5         imh  -0.166667  0.166667\n",
       "6          mh   1.444444  0.055556"
      ],
      "text/html": [
       "<div>\n",
       "<style scoped>\n",
       "    .dataframe tbody tr th:only-of-type {\n",
       "        vertical-align: middle;\n",
       "    }\n",
       "\n",
       "    .dataframe tbody tr th {\n",
       "        vertical-align: top;\n",
       "    }\n",
       "\n",
       "    .dataframe thead th {\n",
       "        text-align: right;\n",
       "    }\n",
       "</style>\n",
       "<table border=\"1\" class=\"dataframe\">\n",
       "  <thead>\n",
       "    <tr style=\"text-align: right;\">\n",
       "      <th></th>\n",
       "      <th>sampler</th>\n",
       "      <th>mean_rank</th>\n",
       "      <th>sem_rank</th>\n",
       "    </tr>\n",
       "  </thead>\n",
       "  <tbody>\n",
       "    <tr>\n",
       "      <th>0</th>\n",
       "      <td>neutra_hmc</td>\n",
       "      <td>-0.166667</td>\n",
       "      <td>0.134067</td>\n",
       "    </tr>\n",
       "    <tr>\n",
       "      <th>1</th>\n",
       "      <td>jump_hmc</td>\n",
       "      <td>-1.194444</td>\n",
       "      <td>0.181402</td>\n",
       "    </tr>\n",
       "    <tr>\n",
       "      <th>2</th>\n",
       "      <td>hmc</td>\n",
       "      <td>-0.138889</td>\n",
       "      <td>0.165711</td>\n",
       "    </tr>\n",
       "    <tr>\n",
       "      <th>3</th>\n",
       "      <td>neutra_mh</td>\n",
       "      <td>0.500000</td>\n",
       "      <td>0.166667</td>\n",
       "    </tr>\n",
       "    <tr>\n",
       "      <th>4</th>\n",
       "      <td>jump_mh</td>\n",
       "      <td>-0.277778</td>\n",
       "      <td>0.210905</td>\n",
       "    </tr>\n",
       "    <tr>\n",
       "      <th>5</th>\n",
       "      <td>imh</td>\n",
       "      <td>-0.166667</td>\n",
       "      <td>0.166667</td>\n",
       "    </tr>\n",
       "    <tr>\n",
       "      <th>6</th>\n",
       "      <td>mh</td>\n",
       "      <td>1.444444</td>\n",
       "      <td>0.055556</td>\n",
       "    </tr>\n",
       "  </tbody>\n",
       "</table>\n",
       "</div>"
      ]
     },
     "execution_count": 3,
     "metadata": {},
     "output_type": "execute_result"
    }
   ],
   "execution_count": 3
  },
  {
   "cell_type": "code",
   "metadata": {
    "ExecuteTime": {
     "end_time": "2024-12-22T14:29:30.543517Z",
     "start_time": "2024-12-22T14:29:28.992583Z"
    }
   },
   "source": [
    "import matplotlib.pyplot as plt\n",
    "from util import SAMPLER_PRETTY\n",
    "\n",
    "fig, axes = plt.subplots(1, 2, figsize=(8, 1.5), sharey=True)\n",
    "\n",
    "for index, row in _sr_sampler.iterrows():\n",
    "    axes[0].errorbar(x=row['mean_rank'], y=index, xerr=row['sem_rank'], capsize=3, c='tab:blue', marker='o')\n",
    "\n",
    "for index, row in _sr_sampler_best.iterrows():\n",
    "    axes[1].errorbar(x=row['mean_rank'], y=index, xerr=row['sem_rank'], capsize=3, c='tab:blue', marker='*',\n",
    "                     markersize=2 ** 3)\n",
    "\n",
    "axes[0].set_yticks(_sr_sampler.index, [SAMPLER_PRETTY[s] for s in _sr_sampler['sampler']])\n",
    "axes[0].set_xlabel('Average SR (default hyperparameters)')\n",
    "axes[1].set_xlabel('Average SR (minimum $b^2$)')\n",
    "\n",
    "# axes[1].set_yticks([])\n",
    "\n",
    "axes[0].set_ylim(-1, len(_sr_sampler.index))\n",
    "\n",
    "fig.subplots_adjust(wspace=0.1)\n",
    "\n",
    "fig.savefig('images/nfmc-all-benchmarks.png', bbox_inches='tight', dpi=600)\n",
    "fig.savefig('images/nfmc-all-benchmarks.pdf', bbox_inches='tight')\n",
    "\n",
    "plt.show()"
   ],
   "outputs": [
    {
     "data": {
      "text/plain": [
       "<Figure size 800x150 with 2 Axes>"
      ],
      "image/png": "[encoded data removed]"
     },
     "metadata": {},
     "output_type": "display_data"
    }
   ],
   "execution_count": 4
  },
  {
   "cell_type": "code",
   "metadata": {
    "ExecuteTime": {
     "end_time": "2024-12-22T14:29:30.585443Z",
     "start_time": "2024-12-22T14:29:30.576253Z"
    }
   },
   "source": [
    "from util import get_benchmark_family\n",
    "\n",
    "df['benchmark_family'] = [get_benchmark_family(b) for b in df['benchmark']]"
   ],
   "outputs": [],
   "execution_count": 5
  },
  {
   "cell_type": "code",
   "metadata": {
    "ExecuteTime": {
     "end_time": "2024-12-22T14:29:30.768022Z",
     "start_time": "2024-12-22T14:29:30.621885Z"
    }
   },
   "source": [
    "# table with NF kwargs that give you the minimum b2\n",
    "import numpy as np\n",
    "\n",
    "masks = [\n",
    "            (df['benchmark_family'] == f) for f in\n",
    "            ['gaussian', 'non-gaussian (curved)', 'multimodal', 'non-gaussian (hierarchical)']\n",
    "        ] + [\n",
    "            pd.Series(np.ones(df.shape[0], dtype=bool))\n",
    "        ]\n",
    "\n",
    "tmp = pd.concat([\n",
    "    standardized_rank(\n",
    "        df[m],\n",
    "        rank_what='sampler',\n",
    "        rank_across='benchmark',\n",
    "        summary='min'\n",
    "    ).apply(lambda el: round(el, decimal_precision)).apply(tuple, axis=1)\n",
    "    for m in masks\n",
    "], axis=1)\n",
    "tmp.columns = ['Gaussian', 'Non-Gaussian', 'Multimodal', 'Hierarchical', 'All']\n",
    "\n",
    "order = get_standard_sampler_order([e[0] for e in tmp.index])\n",
    "tmp = tmp.iloc[order]\n",
    "tmp.index = [SAMPLER_PRETTY[s] for (s,) in tmp.index]\n",
    "\n",
    "tmp = tmp.reset_index()\n",
    "tmp.columns = ['Sampler'] + list(tmp.columns)[1:]"
   ],
   "outputs": [],
   "execution_count": 6
  },
  {
   "cell_type": "code",
   "metadata": {
    "ExecuteTime": {
     "end_time": "2024-12-22T14:29:30.784833Z",
     "start_time": "2024-12-22T14:29:30.776298Z"
    }
   },
   "source": [
    "from util import to_booktabs_table, make_bold_mask\n",
    "\n",
    "to_booktabs_table(\n",
    "    tmp,\n",
    "    bold_mask=make_bold_mask(\n",
    "        tmp.set_index('Sampler'),\n",
    "        top_quantile=1.0,\n",
    "    ), save_to_file='tables/nfmc-per-family.tex',\n",
    "    caption=r'$\\overline{r} \\pm \\hat{\\sigma}$ for all samplers and target families. Samplers with the best $\\overline{r}$ are shown in bold for each target family. We estimate $\\overline{r} \\pm \\hat{\\sigma}$ with the minimum $b^2$ across all NFs for each target within a family. Entries without $\\hat{\\sigma}$ always attain the same $\\overline{r}$. Ranks computed separately for each target family.',\n",
    "    label='tab:nfmc-per-family'\n",
    ")"
   ],
   "outputs": [
    {
     "name": "stdout",
     "output_type": "stream",
     "text": [
      "\\begin{table}\n",
      "\n",
      "            \\renewrobustcmd{\\bfseries}{\\fontseries{b}\\selectfont}\n",
      "            \\renewrobustcmd{\\boldmath}{}\n",
      "            \\sisetup{%\n",
      "                table-align-uncertainty=true,\n",
      "                detect-all,\n",
      "                separate-uncertainty=true,\n",
      "                mode=text,\n",
      "                round-mode=uncertainty,\n",
      "                round-precision=2,\n",
      "                table-format = 2.2(2),\n",
      "                table-column-width=2.1cm\n",
      "            }\n",
      "            \n",
      "\\begin{tabular}{l\n",
      "S\n",
      "S\n",
      "S\n",
      "S\n",
      "S}\n",
      "\\toprule\n",
      "{Sampler} & {Gaussian} & {Non-Gaussian} & {Multimodal} & {Hierarchical} & {All} \\\\\n",
      "\\midrule\n",
      "{MH} & 1.5 & 1.5 & 1.5 & 1.38(0.12) & 1.44(0.06) \\\\\n",
      "{IMH} & 0.38(0.47) & 0.00(0.50) & 0.25(0.25) & -0.69(0.09) & -0.17(0.17) \\\\\n",
      "{Jump MH} & -0.50(0.29) & \\bfseries -1.25(0.25) & -0.75(0.32) & 0.31(0.31) & -0.28(0.21) \\\\\n",
      "{NeuTra MH} & 0.75(0.14) & 1.0 & 0.50(0.50) & 0.25(0.27) & 0.50(0.17) \\\\\n",
      "{HMC} & -0.62(0.12) & 0.00(0.50) & -0.12(0.43) & 0.06(0.27) & -0.14(0.17) \\\\\n",
      "{Jump HMC} & \\bfseries -1.5 & \\bfseries -1.25(0.25) & \\bfseries -1.38(0.12) & \\bfseries -0.94(0.39) & \\bfseries -1.19(0.18) \\\\\n",
      "{NeuTra HMC} & 0.00(0.20) & 0.0 & 0.00(0.20) & -0.38(0.26) & -0.17(0.13) \\\\\n",
      "\\bottomrule\n",
      "\\end{tabular}\n",
      "\\caption{$\\overline{r} \\pm \\hat{\\sigma}$ for all samplers and target families. Samplers with the best $\\overline{r}$ are shown in bold for each target family. We estimate $\\overline{r} \\pm \\hat{\\sigma}$ with the minimum $b^2$ across all NFs for each target within a family. Entries without $\\hat{\\sigma}$ always attain the same $\\overline{r}$. Ranks computed separately for each target family.}\n",
      "\\label{tab:nfmc-per-family}\n",
      "\\end{table}\n"
     ]
    }
   ],
   "execution_count": 7
  },
  {
   "cell_type": "code",
   "metadata": {
    "ExecuteTime": {
     "end_time": "2024-12-22T14:29:30.821485Z",
     "start_time": "2024-12-22T14:29:30.806222Z"
    }
   },
   "source": [
    "# Same df but for flows\n",
    "\n",
    "# table with default NF kwargs\n",
    "import numpy as np\n",
    "from util import to_booktabs_table, FLOW_PRETTY_MATH, make_bold_mask\n",
    "\n",
    "masks = [\n",
    "            (df['benchmark_family'] == f).values for f in\n",
    "            ['gaussian', 'non-gaussian (curved)', 'multimodal', 'non-gaussian (hierarchical)']\n",
    "        ] + [\n",
    "            pd.Series(np.ones(df.shape[0], dtype=bool)).values\n",
    "        ]\n",
    "\n",
    "masks = [m & (df['flow'] != 'None') for m in masks]"
   ],
   "outputs": [],
   "execution_count": 8
  },
  {
   "cell_type": "code",
   "metadata": {
    "ExecuteTime": {
     "end_time": "2024-12-22T14:29:31.026665Z",
     "start_time": "2024-12-22T14:29:30.839769Z"
    }
   },
   "source": [
    "jump_mcmc_mask = (~df['sampler'].isin(['neutra_mh', 'neutra_hmc']))\n",
    "\n",
    "tmp_jump = pd.concat([\n",
    "    standardized_rank(\n",
    "        df[(m & jump_mcmc_mask) & (df['best_kwargs'])],\n",
    "        rank_what='flow',\n",
    "        rank_across='benchmark'\n",
    "    ).apply(lambda el: round(el, decimal_precision)).apply(tuple, axis=1)\n",
    "    for m in masks\n",
    "], axis=1)\n",
    "tmp_jump.columns = ['Gaussian', 'Non-Gaussian', 'Multimodal', 'Hierarchical', 'All']\n",
    "\n",
    "order = get_standard_flow_order([f for f, in tmp_jump.index])\n",
    "tmp_jump = tmp_jump.iloc[order]\n",
    "tmp_jump.index = [FLOW_PRETTY_MATH[s] for (s,) in tmp_jump.index]\n",
    "\n",
    "bold_mask = make_bold_mask(tmp_jump, top_quantile=0.8)\n",
    "tmp_jump = tmp_jump.reset_index()\n",
    "tmp_jump.columns = ['NF'] + list(tmp_jump.columns)[1:]\n",
    "\n",
    "to_booktabs_table(\n",
    "    tmp_jump,\n",
    "    bold_mask=bold_mask,\n",
    "    save_to_file='tables/nf-per-family.tex',\n",
    "    caption=r'$\\overline{r} \\pm \\hat{\\sigma}$ for all NFs and target families in IMH, Jump MH, and Jump HMC. NFs in the top 20th percentile are shown in bold for each target family. We estimate $\\overline{r} \\pm \\hat{\\sigma}$ with $b^2$ from runs with default hyperparameters. Entries without $\\hat{\\sigma}$ always attain the same $\\overline{r}$. Ranks computed separately for each target family.',\n",
    "    label='tab:nf-per-family'\n",
    ")"
   ],
   "outputs": [
    {
     "name": "stdout",
     "output_type": "stream",
     "text": [
      "\\begin{table}\n",
      "\n",
      "            \\renewrobustcmd{\\bfseries}{\\fontseries{b}\\selectfont}\n",
      "            \\renewrobustcmd{\\boldmath}{}\n",
      "            \\sisetup{%\n",
      "                table-align-uncertainty=true,\n",
      "                detect-all,\n",
      "                separate-uncertainty=true,\n",
      "                mode=text,\n",
      "                round-mode=uncertainty,\n",
      "                round-precision=2,\n",
      "                table-format = 2.2(2),\n",
      "                table-column-width=2.1cm\n",
      "            }\n",
      "            \n",
      "\\begin{tabular}{l\n",
      "S\n",
      "S\n",
      "S\n",
      "S\n",
      "S}\n",
      "\\toprule\n",
      "{NF} & {Gaussian} & {Non-Gaussian} & {Multimodal} & {Hierarchical} & {All} \\\\\n",
      "\\midrule\n",
      "{NICE} & -0.43(0.31) & 1.45(0.14) & \\bfseries -0.80(0.25) & 0.00(0.32) & -0.11(0.22) \\\\\n",
      "{Real NVP} & \\bfseries -0.80(0.25) & \\bfseries -1.16(0.43) & 0.29(0.36) & 0.29(0.32) & -0.11(0.22) \\\\\n",
      "{C-LR-NSF} & -0.14(0.72) & 0.72(0.58) & \\bfseries -0.51(0.30) & -0.40(0.19) & -0.24(0.20) \\\\\n",
      "{C-RQ-NSF} & \\bfseries -0.87(0.19) & 1.01 & \\bfseries -0.51(0.38) & 0.43(0.39) & 0.00(0.24) \\\\\n",
      "{C-NAF$_\\mathrm{deep}$} & 0.58(0.19) & -0.14(0.87) & 0.72(0.35) & 0.80(0.25) & 0.63(0.17) \\\\\n",
      "{C-NAF$_\\mathrm{dense}$} & 0.94(0.46) & 0.29(0.14) & 0.58(0.65) & 1.09(0.15) & 0.85(0.18) \\\\\n",
      "{C-NAF$_\\mathrm{both}$} & 1.30(0.20) & 0.29(0.43) & 0.72(0.78) & 0.76(0.29) & 0.82(0.22) \\\\\n",
      "{i-ResNet} & \\bfseries -0.80(0.36) & -0.14(0.58) & -0.07(0.60) & \\bfseries -0.98(0.25) & \\bfseries -0.64(0.20) \\\\\n",
      "{ResFlow} & 0.22(0.62) & -0.29(0.14) & 0.80(0.18) & -0.18(0.33) & 0.11(0.21) \\\\\n",
      "{CNF$_\\mathrm{Euler}$} & 0.14(0.35) & \\bfseries -0.87(0.43) & -0.36(0.62) & \\bfseries -0.54(0.31) & \\bfseries -0.39(0.21) \\\\\n",
      "{CNF$_\\mathrm{RK}$} & 0.29(0.65) & 0.00(1.59) & -0.07(0.48) & \\bfseries -0.72(0.27) & -0.27(0.26) \\\\\n",
      "{CNF$_\\mathrm{RK(R)}$} & -0.43(0.31) & \\bfseries -1.16(0.14) & \\bfseries -0.80(0.27) & \\bfseries -0.54(0.32) & \\bfseries -0.64(0.17) \\\\\n",
      "\\bottomrule\n",
      "\\end{tabular}\n",
      "\\caption{$\\overline{r} \\pm \\hat{\\sigma}$ for all NFs and target families in IMH, Jump MH, and Jump HMC. NFs in the top 20th percentile are shown in bold for each target family. We estimate $\\overline{r} \\pm \\hat{\\sigma}$ with $b^2$ from runs with default hyperparameters. Entries without $\\hat{\\sigma}$ always attain the same $\\overline{r}$. Ranks computed separately for each target family.}\n",
      "\\label{tab:nf-per-family}\n",
      "\\end{table}\n"
     ]
    }
   ],
   "execution_count": 9
  },
  {
   "cell_type": "code",
   "metadata": {
    "ExecuteTime": {
     "end_time": "2024-12-22T14:29:31.335876Z",
     "start_time": "2024-12-22T14:29:31.102130Z"
    }
   },
   "source": [
    "jump_mcmc_mask = (~df['sampler'].isin(['neutra_mh', 'neutra_hmc']))\n",
    "\n",
    "tmp_neutra = pd.concat([\n",
    "    standardized_rank(\n",
    "        df[m & (~jump_mcmc_mask) & df['best_kwargs']],\n",
    "        rank_what='flow',\n",
    "        rank_across='benchmark'\n",
    "    ).apply(lambda el: round(el, decimal_precision)).apply(tuple, axis=1)\n",
    "    for m in masks\n",
    "], axis=1)\n",
    "tmp_neutra.columns = ['Gaussian', 'Non-Gaussian', 'Multimodal', 'Hierarchical', 'All']\n",
    "\n",
    "order = get_standard_flow_order([f for f, in tmp_neutra.index])\n",
    "tmp_neutra = tmp_neutra.iloc[order]\n",
    "tmp_neutra.index = [FLOW_PRETTY_MATH[s] for (s,) in tmp_neutra.index]\n",
    "\n",
    "bold_mask = make_bold_mask(tmp_neutra, top_quantile=0.8)\n",
    "tmp_neutra = tmp_neutra.reset_index()\n",
    "tmp_neutra.columns = ['NF'] + list(tmp_neutra.columns)[1:]\n",
    "\n",
    "to_booktabs_table(\n",
    "    tmp_neutra,\n",
    "    bold_mask=bold_mask,\n",
    "    save_to_file='tables/nf-per-family-neutra.tex',\n",
    "    caption=r'$\\overline{r} \\pm \\hat{\\sigma}$ for all NFs and target families in NeuTra MH and NeuTra HMC. NFs in the top 20th percentile are shown in bold for each target family. We estimate $\\overline{r} \\pm \\hat{\\sigma}$ with $b^2$ from runs with default hyperparameters. Entries without $\\hat{\\sigma}$ always attain the same $\\overline{r}$. Ranks computed separately for each target family.',\n",
    "    label='tab:nf-per-family-neutra',\n",
    ")"
   ],
   "outputs": [
    {
     "name": "stdout",
     "output_type": "stream",
     "text": [
      "\\begin{table}\n",
      "\n",
      "            \\renewrobustcmd{\\bfseries}{\\fontseries{b}\\selectfont}\n",
      "            \\renewrobustcmd{\\boldmath}{}\n",
      "            \\sisetup{%\n",
      "                table-align-uncertainty=true,\n",
      "                detect-all,\n",
      "                separate-uncertainty=true,\n",
      "                mode=text,\n",
      "                round-mode=uncertainty,\n",
      "                round-precision=2,\n",
      "                table-format = 2.2(2),\n",
      "                table-column-width=2.1cm\n",
      "            }\n",
      "            \n",
      "\\begin{tabular}{l\n",
      "S\n",
      "S\n",
      "S\n",
      "S\n",
      "S}\n",
      "\\toprule\n",
      "{NF} & {Gaussian} & {Non-Gaussian} & {Multimodal} & {Hierarchical} & {All} \\\\\n",
      "\\midrule\n",
      "{NICE} & 0.21(0.42) & 1.07(0.25) & 0.62(0.38) & -0.31(0.27) & 0.17(0.20) \\\\\n",
      "{Real NVP} & 0.17(0.32) & 1.57(0.08) & 0.83(0.29) & 0.52(0.37) & 0.62(0.21) \\\\\n",
      "{C-LR-NSF} & -0.62(0.42) & 0.33(0.33) & -0.37(0.49) & 0.20(0.32) & -0.10(0.21) \\\\\n",
      "{C-RQ-NSF} & \\bfseries -0.87(0.33) & 0.33(0.17) & -0.04(0.25) & \\bfseries -0.45(0.33) & -0.36(0.18) \\\\\n",
      "{C-NAF$_\\mathrm{deep}$} & 1.07(0.08) & 0.50(0.17) & 1.40(0.11) & 0.62(0.41) & 0.88(0.20) \\\\\n",
      "{C-NAF$_\\mathrm{dense}$} & 0.33(0.45) & -0.91(0.58) & 1.11(0.23) & 0.56(0.30) & 0.47(0.22) \\\\\n",
      "{C-NAF$_\\mathrm{both}$} & 0.04(0.32) & \\bfseries -0.99(0.33) & 0.25(0.29) & 0.08(0.37) & -0.02(0.20) \\\\\n",
      "{IAF} & 0.54(0.44) & 1.16(0.33) & -0.04(0.60) & 0.39(0.27) & 0.41(0.21) \\\\\n",
      "{IA-LR-NSF} & -0.25(0.55) & -0.25(0.08) & 0.37(0.62) & -0.07(0.41) & -0.03(0.25) \\\\\n",
      "{IA-RQ-NSF} & -0.62(0.44) & -0.50(0.33) & \\bfseries -0.87(0.31) & -0.30(0.28) & \\bfseries -0.52(0.17) \\\\\n",
      "{IA-NAF$_\\mathrm{deep}$} & \\bfseries -0.83(0.24) & \\bfseries -1.16(0.33) & -0.37(0.40) & \\bfseries -0.45(0.38) & \\bfseries -0.59(0.20) \\\\\n",
      "{IA-NAF$_\\mathrm{dense}$} & -0.54(0.27) & -0.91(0.41) & \\bfseries -0.87(0.37) & -0.26(0.34) & \\bfseries -0.53(0.19) \\\\\n",
      "{IA-NAF$_\\mathrm{both}$} & 0.29(0.25) & -0.58(0.08) & 0.12(0.46) & -0.25(0.38) & -0.07(0.20) \\\\\n",
      "{i-ResNet} & -0.58(0.27) & -0.58(0.58) & \\bfseries -0.70(0.18) & -0.39(0.21) & \\bfseries -0.52(0.13) \\\\\n",
      "{ResFlow} & \\bfseries -0.95(0.39) & \\bfseries -1.07(0.08) & -0.62(0.24) & \\bfseries -0.43(0.22) & \\bfseries -0.66(0.14) \\\\\n",
      "{Planar} & 0.29(0.55) & 0.25(0.08) & -0.04(0.21) & -0.11(0.31) & 0.04(0.18) \\\\\n",
      "{Radial} & \\bfseries -1.16(0.39) & \\bfseries -1.32(0.33) & \\bfseries -1.57(0.08) & \\bfseries -1.07(0.21) & \\bfseries -1.23(0.13) \\\\\n",
      "{Sylvester} & -0.74(0.20) & -0.58(1.07) & 0.00(0.24) & \\bfseries -0.67(0.34) & -0.47(0.19) \\\\\n",
      "{CNF$_\\mathrm{Euler}$} & 1.49 & 0.99 & -0.00(0.58) & 0.58(0.39) & 0.70(0.24) \\\\\n",
      "{CNF$_\\mathrm{RK}$} & 1.32(0.23) & 1.49(0.17) & 0.08(0.86) & 0.93(0.38) & 0.89(0.27) \\\\\n",
      "{CNF$_\\mathrm{RK(R)}$} & 1.40(0.08) & 1.16 & 0.70(0.57) & 0.37(0.43) & 0.76(0.24) \\\\\n",
      "\\bottomrule\n",
      "\\end{tabular}\n",
      "\\caption{$\\overline{r} \\pm \\hat{\\sigma}$ for all NFs and target families in NeuTra MH and NeuTra HMC. NFs in the top 20th percentile are shown in bold for each target family. We estimate $\\overline{r} \\pm \\hat{\\sigma}$ with $b^2$ from runs with default hyperparameters. Entries without $\\hat{\\sigma}$ always attain the same $\\overline{r}$. Ranks computed separately for each target family.}\n",
      "\\label{tab:nf-per-family-neutra}\n",
      "\\end{table}\n"
     ]
    }
   ],
   "execution_count": 10
  }
 ],
 "metadata": {
  "kernelspec": {
   "display_name": "Python 3 (ipykernel)",
   "language": "python",
   "name": "python3"
  },
  "language_info": {
   "codemirror_mode": {
    "name": "ipython",
    "version": 3
   },
   "file_extension": ".py",
   "mimetype": "text/x-python",
   "name": "python",
   "nbconvert_exporter": "python",
   "pygments_lexer": "ipython3",
   "version": "3.12.7"
  }
 },
 "nbformat": 4,
 "nbformat_minor": 4
}
