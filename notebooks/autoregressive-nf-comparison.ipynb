{
 "cells": [
  {
   "cell_type": "code",
   "id": "initial_id",
   "metadata": {
    "collapsed": true,
    "ExecuteTime": {
     "end_time": "2024-12-22T13:56:34.062957Z",
     "start_time": "2024-12-22T13:56:33.388478Z"
    }
   },
   "source": [
    "import json\n",
    "import pandas as pd\n",
    "\n",
    "with open(\"../results.json\", 'r') as f:\n",
    "    data = json.load(f)"
   ],
   "outputs": [],
   "execution_count": 1
  },
  {
   "metadata": {
    "ExecuteTime": {
     "end_time": "2024-12-22T13:56:36.812708Z",
     "start_time": "2024-12-22T13:56:34.641696Z"
    }
   },
   "cell_type": "code",
   "source": [
    "from notebooks.util import get_benchmark_family, BENCHMARK_FAMILY_PRETTY\n",
    "from nfmc.util import get_flow_family\n",
    "\n",
    "df = pd.DataFrame(data['general_experiment'])\n",
    "df = df[df['flow'] != 'None']\n",
    "df['flow_family'] = [get_flow_family(f)[0] for f in df['flow']]\n",
    "df = df[df['flow_family'] == 'autoregressive']\n",
    "df['flow_subfamily'] = [get_flow_family(f)[1] for f in df['flow']]\n",
    "df['transformer'] = [get_flow_family(f)[2] for f in df['flow']]\n",
    "df['benchmark_family'] = [get_benchmark_family(b) for b in df['benchmark']]\n",
    "\n",
    "masks = [\n",
    "    (df['benchmark_family'] == f) for f in\n",
    "    ['gaussian', 'non-gaussian (curved)', 'multimodal', 'non-gaussian (hierarchical)']\n",
    "]\n",
    "\n",
    "df['conditioner'] = df['flow_subfamily'].map({'coupling': 'C', 'masked': 'MADE'})\n",
    "df['transformer'] = df['transformer'].map({'affine': 'Affine', 'nn': 'NN', 'spline': 'Spline'})\n",
    "df['specific_transformer'] = df['flow'].map({\n",
    "    'c-naf-deep-dense': 'naf-deep-dense',\n",
    "    'c-lrsnsf': 'lrs',\n",
    "    'c-naf-dense': 'naf-dense',\n",
    "    'c-naf-deep': 'naf-deep',\n",
    "    'c-rqnsf': 'rqs',\n",
    "    'nice': 'shift',\n",
    "    'ia-naf-dense': 'naf-dense',\n",
    "    'realnvp': 'affine',\n",
    "    'ia-naf-deep': 'naf-deep',\n",
    "    'ia-rqnsf': 'rqs',\n",
    "    'ia-lrsnsf': 'lrs',\n",
    "    'ia-naf-deep-dense': 'naf-deep-dense',\n",
    "    'iaf': 'affine'\n",
    "})\n",
    "df['benchmark_family'] = df['benchmark_family'].map(BENCHMARK_FAMILY_PRETTY)"
   ],
   "id": "657a8f34b0e42b59",
   "outputs": [],
   "execution_count": 2
  },
  {
   "metadata": {},
   "cell_type": "markdown",
   "source": "# Joint comparison",
   "id": "c4c411c09ce577ab"
  },
  {
   "metadata": {
    "ExecuteTime": {
     "end_time": "2024-12-22T13:56:39.175607Z",
     "start_time": "2024-12-22T13:56:38.338932Z"
    }
   },
   "cell_type": "code",
   "source": [
    "from notebooks.util import standardized_rank_best_nf_kwargs\n",
    "\n",
    "neutra_mcmc_mask = ~df['sampler'].isin(['jump_hmc', 'jump_mh', 'imh'])\n",
    "\n",
    "processed_dfs = []\n",
    "unprocessed_dfs = [\n",
    "                      df[m & neutra_mcmc_mask] for m in\n",
    "                      [(df['benchmark_family'] == b) for b in df['benchmark_family'].unique()]\n",
    "                  ] + [df[neutra_mcmc_mask]]\n",
    "\n",
    "for i, _unprocessed_df in enumerate(unprocessed_dfs):\n",
    "    sr = standardized_rank_best_nf_kwargs(\n",
    "        _unprocessed_df,\n",
    "        rank_what=['conditioner', 'transformer'],\n",
    "    ).apply(lambda e: (round(e.iloc[0], 2), round(e.iloc[1], 2)), axis=1).reset_index().set_axis(\n",
    "        ['Conditioner', 'Transformer', _unprocessed_df['benchmark_family'].unique()[0]],\n",
    "        axis=1\n",
    "    ).iloc[[0, 2, 1, 3, 5, 4]]\n",
    "    if i > 0:\n",
    "        sr = sr.drop(['Conditioner', 'Transformer'], axis=1)\n",
    "    processed_dfs.append(sr)\n",
    "processed = pd.concat(processed_dfs, axis=1)\n",
    "processed = processed.set_axis(list(processed.columns[:-1]) + ['All'], axis=1)\n",
    "processed.insert(0, 'Combination', processed['Conditioner'] + '-' + processed['Transformer'])\n",
    "processed = processed.drop(['Conditioner', 'Transformer'], axis=1)\n",
    "processed = processed.set_index('Combination')\n",
    "processed = processed[['Gaussian', 'Non-Gaussian', 'Multimodal', 'Real-world', 'All']]\n",
    "processed"
   ],
   "id": "fc73f2e555552f1b",
   "outputs": [
    {
     "data": {
      "text/plain": [
       "                  Gaussian   Non-Gaussian     Multimodal     Real-world  \\\n",
       "Combination                                                               \n",
       "C-Affine     (-0.44, 0.28)    (0.88, 0.0)   (0.59, 0.17)  (-0.37, 0.32)   \n",
       "C-Spline     (-0.59, 0.56)  (-0.59, 0.88)  (-0.44, 0.65)   (-0.15, 0.4)   \n",
       "C-NN          (1.17, 0.29)   (-0.88, 0.0)   (0.88, 0.41)   (0.37, 0.37)   \n",
       "MADE-Affine   (0.44, 0.44)    (1.46, 0.0)   (-0.15, 0.5)   (0.22, 0.46)   \n",
       "MADE-Spline  (-0.73, 0.37)    (0.0, 0.29)  (-0.59, 0.38)   (0.15, 0.24)   \n",
       "MADE-NN       (0.15, 0.55)  (-0.88, 0.59)  (-0.29, 0.63)  (-0.22, 0.36)   \n",
       "\n",
       "                       All  \n",
       "Combination                 \n",
       "C-Affine      (0.46, 0.23)  \n",
       "C-Spline     (-0.49, 0.18)  \n",
       "C-NN          (0.29, 0.26)  \n",
       "MADE-Affine    (0.52, 0.2)  \n",
       "MADE-Spline  (-0.23, 0.22)  \n",
       "MADE-NN      (-0.55, 0.22)  "
      ],
      "text/html": [
       "<div>\n",
       "<style scoped>\n",
       "    .dataframe tbody tr th:only-of-type {\n",
       "        vertical-align: middle;\n",
       "    }\n",
       "\n",
       "    .dataframe tbody tr th {\n",
       "        vertical-align: top;\n",
       "    }\n",
       "\n",
       "    .dataframe thead th {\n",
       "        text-align: right;\n",
       "    }\n",
       "</style>\n",
       "<table border=\"1\" class=\"dataframe\">\n",
       "  <thead>\n",
       "    <tr style=\"text-align: right;\">\n",
       "      <th></th>\n",
       "      <th>Gaussian</th>\n",
       "      <th>Non-Gaussian</th>\n",
       "      <th>Multimodal</th>\n",
       "      <th>Real-world</th>\n",
       "      <th>All</th>\n",
       "    </tr>\n",
       "    <tr>\n",
       "      <th>Combination</th>\n",
       "      <th></th>\n",
       "      <th></th>\n",
       "      <th></th>\n",
       "      <th></th>\n",
       "      <th></th>\n",
       "    </tr>\n",
       "  </thead>\n",
       "  <tbody>\n",
       "    <tr>\n",
       "      <th>C-Affine</th>\n",
       "      <td>(-0.44, 0.28)</td>\n",
       "      <td>(0.88, 0.0)</td>\n",
       "      <td>(0.59, 0.17)</td>\n",
       "      <td>(-0.37, 0.32)</td>\n",
       "      <td>(0.46, 0.23)</td>\n",
       "    </tr>\n",
       "    <tr>\n",
       "      <th>C-Spline</th>\n",
       "      <td>(-0.59, 0.56)</td>\n",
       "      <td>(-0.59, 0.88)</td>\n",
       "      <td>(-0.44, 0.65)</td>\n",
       "      <td>(-0.15, 0.4)</td>\n",
       "      <td>(-0.49, 0.18)</td>\n",
       "    </tr>\n",
       "    <tr>\n",
       "      <th>C-NN</th>\n",
       "      <td>(1.17, 0.29)</td>\n",
       "      <td>(-0.88, 0.0)</td>\n",
       "      <td>(0.88, 0.41)</td>\n",
       "      <td>(0.37, 0.37)</td>\n",
       "      <td>(0.29, 0.26)</td>\n",
       "    </tr>\n",
       "    <tr>\n",
       "      <th>MADE-Affine</th>\n",
       "      <td>(0.44, 0.44)</td>\n",
       "      <td>(1.46, 0.0)</td>\n",
       "      <td>(-0.15, 0.5)</td>\n",
       "      <td>(0.22, 0.46)</td>\n",
       "      <td>(0.52, 0.2)</td>\n",
       "    </tr>\n",
       "    <tr>\n",
       "      <th>MADE-Spline</th>\n",
       "      <td>(-0.73, 0.37)</td>\n",
       "      <td>(0.0, 0.29)</td>\n",
       "      <td>(-0.59, 0.38)</td>\n",
       "      <td>(0.15, 0.24)</td>\n",
       "      <td>(-0.23, 0.22)</td>\n",
       "    </tr>\n",
       "    <tr>\n",
       "      <th>MADE-NN</th>\n",
       "      <td>(0.15, 0.55)</td>\n",
       "      <td>(-0.88, 0.59)</td>\n",
       "      <td>(-0.29, 0.63)</td>\n",
       "      <td>(-0.22, 0.36)</td>\n",
       "      <td>(-0.55, 0.22)</td>\n",
       "    </tr>\n",
       "  </tbody>\n",
       "</table>\n",
       "</div>"
      ]
     },
     "execution_count": 3,
     "metadata": {},
     "output_type": "execute_result"
    }
   ],
   "execution_count": 3
  },
  {
   "metadata": {
    "ExecuteTime": {
     "end_time": "2024-12-22T13:56:39.877998Z",
     "start_time": "2024-12-22T13:56:39.867646Z"
    }
   },
   "cell_type": "code",
   "source": [
    "from notebooks.util import to_booktabs_table, make_bold_mask\n",
    "\n",
    "to_booktabs_table(\n",
    "    processed.reset_index(),\n",
    "    precision=2,\n",
    "    label='tab:autoregressive-nf-comparison',\n",
    "    caption=r'$\\overline{r} \\pm \\hat{\\sigma}$ for all conditioner-transformer combinations in autoregressive NFs, estimated with default hyperparameters for each benchmark. NN denotes neural network transformers, C denotes coupling conditioners. The top 20\\% combinations are shown in bold. Ranks computed separately for each target family.',\n",
    "    bold_mask=make_bold_mask(processed, top_quantile=0.8),\n",
    "    save_to_file='tables/autoregressive-nf-comparison.tex'\n",
    ")"
   ],
   "id": "6c06860cf518ce93",
   "outputs": [
    {
     "name": "stdout",
     "output_type": "stream",
     "text": [
      "\\begin{table}\n",
      "\n",
      "            \\renewrobustcmd{\\bfseries}{\\fontseries{b}\\selectfont}\n",
      "            \\renewrobustcmd{\\boldmath}{}\n",
      "            \\sisetup{%\n",
      "                table-align-uncertainty=true,\n",
      "                detect-all,\n",
      "                separate-uncertainty=true,\n",
      "                mode=text,\n",
      "                round-mode=uncertainty,\n",
      "                round-precision=2,\n",
      "                table-format = 2.2(2),\n",
      "                table-column-width=2.1cm\n",
      "            }\n",
      "            \n",
      "\\begin{tabular}{l\n",
      "S\n",
      "S\n",
      "S\n",
      "S\n",
      "S}\n",
      "\\toprule\n",
      "{Combination} & {Gaussian} & {Non-Gaussian} & {Multimodal} & {Real-world} & {All} \\\\\n",
      "\\midrule\n",
      "{C-Affine} & -0.44(0.28) & 0.88 & 0.59(0.17) & \\bfseries -0.37(0.32) & 0.46(0.23) \\\\\n",
      "{C-Spline} & \\bfseries -0.59(0.56) & -0.59(0.88) & -0.44(0.65) & -0.15(0.40) & \\bfseries -0.49(0.18) \\\\\n",
      "{C-NN} & 1.17(0.29) & \\bfseries -0.88 & 0.88(0.41) & 0.37(0.37) & 0.29(0.26) \\\\\n",
      "{MADE-Affine} & 0.44(0.44) & 1.46 & -0.15(0.50) & 0.22(0.46) & 0.52(0.20) \\\\\n",
      "{MADE-Spline} & \\bfseries -0.73(0.37) & 0.00(0.29) & \\bfseries -0.59(0.38) & 0.15(0.24) & -0.23(0.22) \\\\\n",
      "{MADE-NN} & 0.15(0.55) & \\bfseries -0.88(0.59) & -0.29(0.63) & -0.22(0.36) & \\bfseries -0.55(0.22) \\\\\n",
      "\\bottomrule\n",
      "\\end{tabular}\n",
      "\\caption{$\\overline{r} \\pm \\hat{\\sigma}$ for all conditioner-transformer combinations in autoregressive NFs, estimated with default hyperparameters for each benchmark. NN denotes neural network transformers, C denotes coupling conditioners. The top 20\\% combinations are shown in bold. Ranks computed separately for each target family.}\n",
      "\\label{tab:autoregressive-nf-comparison}\n",
      "\\end{table}\n"
     ]
    }
   ],
   "execution_count": 4
  },
  {
   "metadata": {},
   "cell_type": "markdown",
   "source": [
    "# Conditioner comparison\n",
    "For each transformer and benchmark combination, check if the MADE conditioner is better than the coupling conditioner."
   ],
   "id": "fc6225856015773c"
  },
  {
   "metadata": {
    "ExecuteTime": {
     "end_time": "2024-12-22T13:56:43.463361Z",
     "start_time": "2024-12-22T13:56:42.705672Z"
    }
   },
   "cell_type": "code",
   "source": [
    "comparison_data = []\n",
    "\n",
    "tmp = df[df['sampler'].isin(['neutra_mh', 'neutra_hmc'])][['benchmark', 'specific_transformer', 'sampler', 'conditioner', 'second_moment_squared_bias']]\n",
    "\n",
    "for index, row in tmp[['benchmark', 'specific_transformer', 'sampler']].drop_duplicates().iterrows():\n",
    "    subset = df[(df['benchmark'] == row['benchmark']) & (df['specific_transformer'] == row['specific_transformer']) & (\n",
    "                df['sampler'] == row['sampler'])]\n",
    "    if len(subset['conditioner'].unique()) < 2:\n",
    "        continue\n",
    "    # subset = subset[['benchmark', 'specific_transformer', 'sampler', 'conditioner', 'second_moment_squared_bias', 'flow_kwargs']]\n",
    "    subset = subset[['conditioner', 'second_moment_squared_bias', 'flow_kwargs']]\n",
    "    subset['flow_kwargs'] = subset['flow_kwargs'].map(str)\n",
    "    made_subset = subset[subset['conditioner'] == 'MADE'].drop('conditioner', axis=1)\n",
    "    c_subset = subset[subset['conditioner'] == 'C'].drop('conditioner', axis=1)\n",
    "    merged = made_subset.merge(c_subset, on='flow_kwargs').drop('flow_kwargs', axis=1)\n",
    "    merged.columns = ['b2_made', 'b2_c']\n",
    "    made_wins = (merged['b2_made'] < merged['b2_c']).values.sum()\n",
    "    c_wins = (merged['b2_made'] >= merged['b2_c']).values.sum()\n",
    "    \n",
    "    if made_wins == 0 and c_wins == 0:\n",
    "        continue\n",
    "    \n",
    "    comparison_data.append({\n",
    "        'sampler': row['sampler'],\n",
    "        'specific_transformer': row['specific_transformer'],\n",
    "        'made_wins': made_wins,\n",
    "        'c_wins': c_wins,\n",
    "        'c_win_ratio': c_wins / (made_wins + c_wins),\n",
    "    })"
   ],
   "id": "d8ffea8d102a4766",
   "outputs": [],
   "execution_count": 5
  },
  {
   "metadata": {
    "ExecuteTime": {
     "end_time": "2024-12-22T13:56:44.731359Z",
     "start_time": "2024-12-22T13:56:44.709422Z"
    }
   },
   "cell_type": "code",
   "source": [
    "tmp = pd.DataFrame(comparison_data)\n",
    "tmp['transformer'] = tmp['specific_transformer'].map({\n",
    "    'affine': 'affine',\n",
    "    'lrs': 'spline',\n",
    "    'rqs': 'spline',\n",
    "    'naf-deep': 'nn',\n",
    "    'naf-deep-dense': 'nn',\n",
    "    'naf-dense': 'nn',\n",
    "})\n",
    "transformer_groups = tmp.groupby('transformer')['c_win_ratio'].mean()"
   ],
   "id": "bff93a78612c6aac",
   "outputs": [],
   "execution_count": 6
  },
  {
   "metadata": {
    "ExecuteTime": {
     "end_time": "2024-12-22T13:56:46.185036Z",
     "start_time": "2024-12-22T13:56:46.165915Z"
    }
   },
   "cell_type": "code",
   "source": "tmp['c_win_ratio'].mean()",
   "id": "e9fa991f17d6227f",
   "outputs": [
    {
     "data": {
      "text/plain": [
       "0.4565040650406504"
      ]
     },
     "execution_count": 7,
     "metadata": {},
     "output_type": "execute_result"
    }
   ],
   "execution_count": 7
  },
  {
   "metadata": {
    "ExecuteTime": {
     "end_time": "2024-12-22T13:56:47.213813Z",
     "start_time": "2024-12-22T13:56:47.192805Z"
    }
   },
   "cell_type": "code",
   "source": [
    "# comparison table\n",
    "\n",
    "tab = f\"\"\"\\\\begin{{table}}\n",
    "\\\\renewrobustcmd{{\\\\bfseries}}{{\\\\fontseries{{b}}\\\\selectfont}}\n",
    "\\\\renewrobustcmd{{\\\\boldmath}}{{}}\n",
    "\\\\begin{{tabular}}{{lccccc}}\n",
    " & {{Affine}} & {{Spline}} & {{NN}} & {{All}} \\\\\\\\\n",
    "\\\\midrule\n",
    "{{Transformer}} & {transformer_groups['affine']:.2f} & {transformer_groups['spline']:.2f} & {transformer_groups['nn']:.2f} & {tmp['c_win_ratio'].mean():.2f} \\\\\\\\\n",
    "\\\\bottomrule\n",
    "\\\\end{{tabular}}\n",
    "\\\\caption{{Percentage of experiments where NeuTra MCMC with coupling NFs attains lower $b^2$ than with MA or IA architectures.}}\n",
    "\\\\label{{tab:neutra-conditioner-comparison}}\n",
    "\\\\end{{table}}\n",
    "\"\"\"\n",
    "print(tab)\n",
    "\n",
    "with open('tables/neutra-conditioner-comparison.tex', 'w') as f:\n",
    "    f.write(tab)"
   ],
   "id": "f6044c9057d6ede9",
   "outputs": [
    {
     "name": "stdout",
     "output_type": "stream",
     "text": [
      "\\begin{table}\n",
      "\\renewrobustcmd{\\bfseries}{\\fontseries{b}\\selectfont}\n",
      "\\renewrobustcmd{\\boldmath}{}\n",
      "\\begin{tabular}{lccccc}\n",
      " & {Affine} & {Spline} & {NN} & {All} \\\\\n",
      "\\midrule\n",
      "{Transformer} & 0.41 & 0.47 & 0.46 & 0.46 \\\\\n",
      "\\bottomrule\n",
      "\\end{tabular}\n",
      "\\caption{Percentage of experiments where NeuTra MCMC with coupling NFs attains lower $b^2$ than with MA or IA architectures.}\n",
      "\\label{tab:neutra-conditioner-comparison}\n",
      "\\end{table}\n",
      "\n"
     ]
    }
   ],
   "execution_count": 8
  },
  {
   "metadata": {
    "ExecuteTime": {
     "end_time": "2024-12-13T17:18:04.353185300Z",
     "start_time": "2024-12-05T14:10:48.488640Z"
    }
   },
   "cell_type": "code",
   "source": "",
   "id": "45c892a7f33de0f3",
   "outputs": [],
   "execution_count": null
  }
 ],
 "metadata": {
  "kernelspec": {
   "display_name": "Python 3",
   "language": "python",
   "name": "python3"
  },
  "language_info": {
   "codemirror_mode": {
    "name": "ipython",
    "version": 2
   },
   "file_extension": ".py",
   "mimetype": "text/x-python",
   "name": "python",
   "nbconvert_exporter": "python",
   "pygments_lexer": "ipython2",
   "version": "2.7.6"
  }
 },
 "nbformat": 4,
 "nbformat_minor": 5
}
